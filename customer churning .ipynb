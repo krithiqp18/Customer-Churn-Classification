{
 "cells": [
  {
   "cell_type": "code",
   "execution_count": 10,
   "id": "17542217",
   "metadata": {},
   "outputs": [],
   "source": [
    "import pandas as pd\n",
    "import numpy as np\n",
    "import seaborn as sns\n",
    "import matplotlib.pyplot as plt"
   ]
  },
  {
   "cell_type": "code",
   "execution_count": 11,
   "id": "92a1db0a",
   "metadata": {},
   "outputs": [],
   "source": [
    "df=pd.read_excel('churn of customers telecom data.xlsx',sheet_name='churn of customers Amazon AWS d')"
   ]
  },
  {
   "cell_type": "code",
   "execution_count": 12,
   "id": "5503dcbb",
   "metadata": {},
   "outputs": [
    {
     "data": {
      "text/html": [
       "<div>\n",
       "<style scoped>\n",
       "    .dataframe tbody tr th:only-of-type {\n",
       "        vertical-align: middle;\n",
       "    }\n",
       "\n",
       "    .dataframe tbody tr th {\n",
       "        vertical-align: top;\n",
       "    }\n",
       "\n",
       "    .dataframe thead th {\n",
       "        text-align: right;\n",
       "    }\n",
       "</style>\n",
       "<table border=\"1\" class=\"dataframe\">\n",
       "  <thead>\n",
       "    <tr style=\"text-align: right;\">\n",
       "      <th></th>\n",
       "      <th>State</th>\n",
       "      <th>Account Length</th>\n",
       "      <th>Area Code</th>\n",
       "      <th>Phone</th>\n",
       "      <th>Int'l Plan</th>\n",
       "      <th>VMail Plan</th>\n",
       "      <th>VMail Message</th>\n",
       "      <th>Day Mins</th>\n",
       "      <th>Day Calls</th>\n",
       "      <th>Day Charge</th>\n",
       "      <th>...</th>\n",
       "      <th>Eve Calls</th>\n",
       "      <th>Eve Charge</th>\n",
       "      <th>Night Mins</th>\n",
       "      <th>Night Calls</th>\n",
       "      <th>Night Charge</th>\n",
       "      <th>Intl Mins</th>\n",
       "      <th>Intl Calls</th>\n",
       "      <th>Intl Charge</th>\n",
       "      <th>CustServ Calls</th>\n",
       "      <th>Churn?</th>\n",
       "    </tr>\n",
       "  </thead>\n",
       "  <tbody>\n",
       "    <tr>\n",
       "      <th>0</th>\n",
       "      <td>PA</td>\n",
       "      <td>163</td>\n",
       "      <td>806</td>\n",
       "      <td>403-2562</td>\n",
       "      <td>no</td>\n",
       "      <td>yes</td>\n",
       "      <td>300</td>\n",
       "      <td>8.162204</td>\n",
       "      <td>3</td>\n",
       "      <td>7.579174</td>\n",
       "      <td>...</td>\n",
       "      <td>4</td>\n",
       "      <td>6.508639</td>\n",
       "      <td>4.065759</td>\n",
       "      <td>100</td>\n",
       "      <td>5.111624</td>\n",
       "      <td>4.928160</td>\n",
       "      <td>6</td>\n",
       "      <td>5.673203</td>\n",
       "      <td>3</td>\n",
       "      <td>True.</td>\n",
       "    </tr>\n",
       "    <tr>\n",
       "      <th>1</th>\n",
       "      <td>SC</td>\n",
       "      <td>15</td>\n",
       "      <td>836</td>\n",
       "      <td>158-8416</td>\n",
       "      <td>yes</td>\n",
       "      <td>no</td>\n",
       "      <td>0</td>\n",
       "      <td>10.018993</td>\n",
       "      <td>4</td>\n",
       "      <td>4.226289</td>\n",
       "      <td>...</td>\n",
       "      <td>0</td>\n",
       "      <td>9.972592</td>\n",
       "      <td>7.141040</td>\n",
       "      <td>200</td>\n",
       "      <td>6.436188</td>\n",
       "      <td>3.221748</td>\n",
       "      <td>6</td>\n",
       "      <td>2.559749</td>\n",
       "      <td>8</td>\n",
       "      <td>False.</td>\n",
       "    </tr>\n",
       "    <tr>\n",
       "      <th>2</th>\n",
       "      <td>MO</td>\n",
       "      <td>131</td>\n",
       "      <td>777</td>\n",
       "      <td>896-6253</td>\n",
       "      <td>no</td>\n",
       "      <td>yes</td>\n",
       "      <td>300</td>\n",
       "      <td>4.708490</td>\n",
       "      <td>3</td>\n",
       "      <td>4.768160</td>\n",
       "      <td>...</td>\n",
       "      <td>3</td>\n",
       "      <td>4.566715</td>\n",
       "      <td>5.363235</td>\n",
       "      <td>100</td>\n",
       "      <td>5.142451</td>\n",
       "      <td>7.139023</td>\n",
       "      <td>2</td>\n",
       "      <td>6.254157</td>\n",
       "      <td>4</td>\n",
       "      <td>False.</td>\n",
       "    </tr>\n",
       "    <tr>\n",
       "      <th>3</th>\n",
       "      <td>WY</td>\n",
       "      <td>75</td>\n",
       "      <td>878</td>\n",
       "      <td>817-5729</td>\n",
       "      <td>yes</td>\n",
       "      <td>yes</td>\n",
       "      <td>700</td>\n",
       "      <td>1.268734</td>\n",
       "      <td>3</td>\n",
       "      <td>2.567642</td>\n",
       "      <td>...</td>\n",
       "      <td>5</td>\n",
       "      <td>2.333624</td>\n",
       "      <td>3.773586</td>\n",
       "      <td>450</td>\n",
       "      <td>3.814413</td>\n",
       "      <td>2.245779</td>\n",
       "      <td>6</td>\n",
       "      <td>1.080692</td>\n",
       "      <td>6</td>\n",
       "      <td>False.</td>\n",
       "    </tr>\n",
       "    <tr>\n",
       "      <th>4</th>\n",
       "      <td>WY</td>\n",
       "      <td>146</td>\n",
       "      <td>878</td>\n",
       "      <td>450-4942</td>\n",
       "      <td>yes</td>\n",
       "      <td>no</td>\n",
       "      <td>0</td>\n",
       "      <td>2.696177</td>\n",
       "      <td>3</td>\n",
       "      <td>5.908916</td>\n",
       "      <td>...</td>\n",
       "      <td>3</td>\n",
       "      <td>3.670408</td>\n",
       "      <td>3.751673</td>\n",
       "      <td>250</td>\n",
       "      <td>2.796812</td>\n",
       "      <td>6.905545</td>\n",
       "      <td>4</td>\n",
       "      <td>7.134343</td>\n",
       "      <td>6</td>\n",
       "      <td>True.</td>\n",
       "    </tr>\n",
       "  </tbody>\n",
       "</table>\n",
       "<p>5 rows × 21 columns</p>\n",
       "</div>"
      ],
      "text/plain": [
       "  State  Account Length  Area Code     Phone Int'l Plan VMail Plan  \\\n",
       "0    PA             163        806  403-2562         no        yes   \n",
       "1    SC              15        836  158-8416        yes         no   \n",
       "2    MO             131        777  896-6253         no        yes   \n",
       "3    WY              75        878  817-5729        yes        yes   \n",
       "4    WY             146        878  450-4942        yes         no   \n",
       "\n",
       "   VMail Message   Day Mins  Day Calls  Day Charge  ...  Eve Calls  \\\n",
       "0            300   8.162204          3    7.579174  ...          4   \n",
       "1              0  10.018993          4    4.226289  ...          0   \n",
       "2            300   4.708490          3    4.768160  ...          3   \n",
       "3            700   1.268734          3    2.567642  ...          5   \n",
       "4              0   2.696177          3    5.908916  ...          3   \n",
       "\n",
       "   Eve Charge  Night Mins  Night Calls  Night Charge  Intl Mins  Intl Calls  \\\n",
       "0    6.508639    4.065759          100      5.111624   4.928160           6   \n",
       "1    9.972592    7.141040          200      6.436188   3.221748           6   \n",
       "2    4.566715    5.363235          100      5.142451   7.139023           2   \n",
       "3    2.333624    3.773586          450      3.814413   2.245779           6   \n",
       "4    3.670408    3.751673          250      2.796812   6.905545           4   \n",
       "\n",
       "   Intl Charge  CustServ Calls  Churn?  \n",
       "0     5.673203               3   True.  \n",
       "1     2.559749               8  False.  \n",
       "2     6.254157               4  False.  \n",
       "3     1.080692               6  False.  \n",
       "4     7.134343               6   True.  \n",
       "\n",
       "[5 rows x 21 columns]"
      ]
     },
     "execution_count": 12,
     "metadata": {},
     "output_type": "execute_result"
    }
   ],
   "source": [
    "df.head()"
   ]
  },
  {
   "cell_type": "code",
   "execution_count": 13,
   "id": "5f95fc13",
   "metadata": {},
   "outputs": [
    {
     "data": {
      "text/plain": [
       "Index(['State', 'Account Length', 'Area Code', 'Phone', 'Int'l Plan',\n",
       "       'VMail Plan', 'VMail Message', 'Day Mins', 'Day Calls', 'Day Charge',\n",
       "       'Eve Mins', 'Eve Calls', 'Eve Charge', 'Night Mins', 'Night Calls',\n",
       "       'Night Charge', 'Intl Mins', 'Intl Calls', 'Intl Charge',\n",
       "       'CustServ Calls', 'Churn?'],\n",
       "      dtype='object')"
      ]
     },
     "execution_count": 13,
     "metadata": {},
     "output_type": "execute_result"
    }
   ],
   "source": [
    "df.columns"
   ]
  },
  {
   "cell_type": "code",
   "execution_count": 14,
   "id": "0355de64",
   "metadata": {},
   "outputs": [
    {
     "name": "stdout",
     "output_type": "stream",
     "text": [
      "<class 'pandas.core.frame.DataFrame'>\n",
      "RangeIndex: 5000 entries, 0 to 4999\n",
      "Data columns (total 21 columns):\n",
      " #   Column          Non-Null Count  Dtype  \n",
      "---  ------          --------------  -----  \n",
      " 0   State           5000 non-null   object \n",
      " 1   Account Length  5000 non-null   int64  \n",
      " 2   Area Code       5000 non-null   int64  \n",
      " 3   Phone           5000 non-null   object \n",
      " 4   Int'l Plan      5000 non-null   object \n",
      " 5   VMail Plan      5000 non-null   object \n",
      " 6   VMail Message   5000 non-null   int64  \n",
      " 7   Day Mins        5000 non-null   float64\n",
      " 8   Day Calls       5000 non-null   int64  \n",
      " 9   Day Charge      5000 non-null   float64\n",
      " 10  Eve Mins        5000 non-null   float64\n",
      " 11  Eve Calls       5000 non-null   int64  \n",
      " 12  Eve Charge      5000 non-null   float64\n",
      " 13  Night Mins      5000 non-null   float64\n",
      " 14  Night Calls     5000 non-null   int64  \n",
      " 15  Night Charge    5000 non-null   float64\n",
      " 16  Intl Mins       5000 non-null   float64\n",
      " 17  Intl Calls      5000 non-null   int64  \n",
      " 18  Intl Charge     5000 non-null   float64\n",
      " 19  CustServ Calls  5000 non-null   int64  \n",
      " 20  Churn?          5000 non-null   object \n",
      "dtypes: float64(8), int64(8), object(5)\n",
      "memory usage: 820.4+ KB\n"
     ]
    }
   ],
   "source": [
    "df.info()"
   ]
  },
  {
   "cell_type": "code",
   "execution_count": 15,
   "id": "becc41f1",
   "metadata": {},
   "outputs": [
    {
     "data": {
      "text/html": [
       "<div>\n",
       "<style scoped>\n",
       "    .dataframe tbody tr th:only-of-type {\n",
       "        vertical-align: middle;\n",
       "    }\n",
       "\n",
       "    .dataframe tbody tr th {\n",
       "        vertical-align: top;\n",
       "    }\n",
       "\n",
       "    .dataframe thead th {\n",
       "        text-align: right;\n",
       "    }\n",
       "</style>\n",
       "<table border=\"1\" class=\"dataframe\">\n",
       "  <thead>\n",
       "    <tr style=\"text-align: right;\">\n",
       "      <th></th>\n",
       "      <th>count</th>\n",
       "      <th>mean</th>\n",
       "      <th>std</th>\n",
       "      <th>min</th>\n",
       "      <th>25%</th>\n",
       "      <th>50%</th>\n",
       "      <th>75%</th>\n",
       "      <th>max</th>\n",
       "    </tr>\n",
       "  </thead>\n",
       "  <tbody>\n",
       "    <tr>\n",
       "      <th>Account Length</th>\n",
       "      <td>5000.0</td>\n",
       "      <td>101.675800</td>\n",
       "      <td>57.596762</td>\n",
       "      <td>1.000000</td>\n",
       "      <td>52.000000</td>\n",
       "      <td>102.000000</td>\n",
       "      <td>151.000000</td>\n",
       "      <td>200.000000</td>\n",
       "    </tr>\n",
       "    <tr>\n",
       "      <th>Area Code</th>\n",
       "      <td>5000.0</td>\n",
       "      <td>773.791400</td>\n",
       "      <td>63.470888</td>\n",
       "      <td>657.000000</td>\n",
       "      <td>736.000000</td>\n",
       "      <td>778.000000</td>\n",
       "      <td>806.000000</td>\n",
       "      <td>878.000000</td>\n",
       "    </tr>\n",
       "    <tr>\n",
       "      <th>VMail Message</th>\n",
       "      <td>5000.0</td>\n",
       "      <td>226.680000</td>\n",
       "      <td>273.998527</td>\n",
       "      <td>0.000000</td>\n",
       "      <td>0.000000</td>\n",
       "      <td>0.000000</td>\n",
       "      <td>400.000000</td>\n",
       "      <td>1300.000000</td>\n",
       "    </tr>\n",
       "    <tr>\n",
       "      <th>Day Mins</th>\n",
       "      <td>5000.0</td>\n",
       "      <td>5.518757</td>\n",
       "      <td>3.433485</td>\n",
       "      <td>0.000215</td>\n",
       "      <td>2.682384</td>\n",
       "      <td>5.336245</td>\n",
       "      <td>7.936151</td>\n",
       "      <td>16.897529</td>\n",
       "    </tr>\n",
       "    <tr>\n",
       "      <th>Day Calls</th>\n",
       "      <td>5000.0</td>\n",
       "      <td>3.504600</td>\n",
       "      <td>1.688120</td>\n",
       "      <td>0.000000</td>\n",
       "      <td>2.000000</td>\n",
       "      <td>3.000000</td>\n",
       "      <td>5.000000</td>\n",
       "      <td>10.000000</td>\n",
       "    </tr>\n",
       "    <tr>\n",
       "      <th>Day Charge</th>\n",
       "      <td>5000.0</td>\n",
       "      <td>5.018902</td>\n",
       "      <td>2.195759</td>\n",
       "      <td>0.004777</td>\n",
       "      <td>3.470151</td>\n",
       "      <td>4.988291</td>\n",
       "      <td>6.559750</td>\n",
       "      <td>12.731936</td>\n",
       "    </tr>\n",
       "    <tr>\n",
       "      <th>Eve Mins</th>\n",
       "      <td>5000.0</td>\n",
       "      <td>5.026199</td>\n",
       "      <td>2.135487</td>\n",
       "      <td>0.004659</td>\n",
       "      <td>3.588466</td>\n",
       "      <td>5.145656</td>\n",
       "      <td>6.552962</td>\n",
       "      <td>13.622097</td>\n",
       "    </tr>\n",
       "    <tr>\n",
       "      <th>Eve Calls</th>\n",
       "      <td>5000.0</td>\n",
       "      <td>3.140400</td>\n",
       "      <td>2.525621</td>\n",
       "      <td>0.000000</td>\n",
       "      <td>1.000000</td>\n",
       "      <td>3.000000</td>\n",
       "      <td>5.000000</td>\n",
       "      <td>14.000000</td>\n",
       "    </tr>\n",
       "    <tr>\n",
       "      <th>Eve Charge</th>\n",
       "      <td>5000.0</td>\n",
       "      <td>5.017557</td>\n",
       "      <td>2.127857</td>\n",
       "      <td>0.013573</td>\n",
       "      <td>3.529613</td>\n",
       "      <td>5.006860</td>\n",
       "      <td>6.491725</td>\n",
       "      <td>12.352871</td>\n",
       "    </tr>\n",
       "    <tr>\n",
       "      <th>Night Mins</th>\n",
       "      <td>5000.0</td>\n",
       "      <td>4.000917</td>\n",
       "      <td>1.631001</td>\n",
       "      <td>0.008468</td>\n",
       "      <td>2.921998</td>\n",
       "      <td>3.962089</td>\n",
       "      <td>5.100128</td>\n",
       "      <td>10.183378</td>\n",
       "    </tr>\n",
       "    <tr>\n",
       "      <th>Night Calls</th>\n",
       "      <td>5000.0</td>\n",
       "      <td>224.790000</td>\n",
       "      <td>97.302875</td>\n",
       "      <td>0.000000</td>\n",
       "      <td>150.000000</td>\n",
       "      <td>200.000000</td>\n",
       "      <td>300.000000</td>\n",
       "      <td>550.000000</td>\n",
       "    </tr>\n",
       "    <tr>\n",
       "      <th>Night Charge</th>\n",
       "      <td>5000.0</td>\n",
       "      <td>5.023490</td>\n",
       "      <td>1.748900</td>\n",
       "      <td>0.054863</td>\n",
       "      <td>3.873157</td>\n",
       "      <td>5.169154</td>\n",
       "      <td>6.272015</td>\n",
       "      <td>10.407778</td>\n",
       "    </tr>\n",
       "    <tr>\n",
       "      <th>Intl Mins</th>\n",
       "      <td>5000.0</td>\n",
       "      <td>5.025876</td>\n",
       "      <td>1.019302</td>\n",
       "      <td>1.648514</td>\n",
       "      <td>4.349726</td>\n",
       "      <td>5.034905</td>\n",
       "      <td>5.716386</td>\n",
       "      <td>8.405644</td>\n",
       "    </tr>\n",
       "    <tr>\n",
       "      <th>Intl Calls</th>\n",
       "      <td>5000.0</td>\n",
       "      <td>5.475400</td>\n",
       "      <td>1.877045</td>\n",
       "      <td>0.000000</td>\n",
       "      <td>4.000000</td>\n",
       "      <td>5.000000</td>\n",
       "      <td>7.000000</td>\n",
       "      <td>12.000000</td>\n",
       "    </tr>\n",
       "    <tr>\n",
       "      <th>Intl Charge</th>\n",
       "      <td>5000.0</td>\n",
       "      <td>4.328242</td>\n",
       "      <td>2.440311</td>\n",
       "      <td>0.000769</td>\n",
       "      <td>2.468225</td>\n",
       "      <td>4.214058</td>\n",
       "      <td>5.960654</td>\n",
       "      <td>14.212261</td>\n",
       "    </tr>\n",
       "    <tr>\n",
       "      <th>CustServ Calls</th>\n",
       "      <td>5000.0</td>\n",
       "      <td>5.525800</td>\n",
       "      <td>2.041217</td>\n",
       "      <td>0.000000</td>\n",
       "      <td>4.000000</td>\n",
       "      <td>6.000000</td>\n",
       "      <td>7.000000</td>\n",
       "      <td>13.000000</td>\n",
       "    </tr>\n",
       "  </tbody>\n",
       "</table>\n",
       "</div>"
      ],
      "text/plain": [
       "                 count        mean         std         min         25%  \\\n",
       "Account Length  5000.0  101.675800   57.596762    1.000000   52.000000   \n",
       "Area Code       5000.0  773.791400   63.470888  657.000000  736.000000   \n",
       "VMail Message   5000.0  226.680000  273.998527    0.000000    0.000000   \n",
       "Day Mins        5000.0    5.518757    3.433485    0.000215    2.682384   \n",
       "Day Calls       5000.0    3.504600    1.688120    0.000000    2.000000   \n",
       "Day Charge      5000.0    5.018902    2.195759    0.004777    3.470151   \n",
       "Eve Mins        5000.0    5.026199    2.135487    0.004659    3.588466   \n",
       "Eve Calls       5000.0    3.140400    2.525621    0.000000    1.000000   \n",
       "Eve Charge      5000.0    5.017557    2.127857    0.013573    3.529613   \n",
       "Night Mins      5000.0    4.000917    1.631001    0.008468    2.921998   \n",
       "Night Calls     5000.0  224.790000   97.302875    0.000000  150.000000   \n",
       "Night Charge    5000.0    5.023490    1.748900    0.054863    3.873157   \n",
       "Intl Mins       5000.0    5.025876    1.019302    1.648514    4.349726   \n",
       "Intl Calls      5000.0    5.475400    1.877045    0.000000    4.000000   \n",
       "Intl Charge     5000.0    4.328242    2.440311    0.000769    2.468225   \n",
       "CustServ Calls  5000.0    5.525800    2.041217    0.000000    4.000000   \n",
       "\n",
       "                       50%         75%          max  \n",
       "Account Length  102.000000  151.000000   200.000000  \n",
       "Area Code       778.000000  806.000000   878.000000  \n",
       "VMail Message     0.000000  400.000000  1300.000000  \n",
       "Day Mins          5.336245    7.936151    16.897529  \n",
       "Day Calls         3.000000    5.000000    10.000000  \n",
       "Day Charge        4.988291    6.559750    12.731936  \n",
       "Eve Mins          5.145656    6.552962    13.622097  \n",
       "Eve Calls         3.000000    5.000000    14.000000  \n",
       "Eve Charge        5.006860    6.491725    12.352871  \n",
       "Night Mins        3.962089    5.100128    10.183378  \n",
       "Night Calls     200.000000  300.000000   550.000000  \n",
       "Night Charge      5.169154    6.272015    10.407778  \n",
       "Intl Mins         5.034905    5.716386     8.405644  \n",
       "Intl Calls        5.000000    7.000000    12.000000  \n",
       "Intl Charge       4.214058    5.960654    14.212261  \n",
       "CustServ Calls    6.000000    7.000000    13.000000  "
      ]
     },
     "execution_count": 15,
     "metadata": {},
     "output_type": "execute_result"
    }
   ],
   "source": [
    "df.describe().T"
   ]
  },
  {
   "cell_type": "code",
   "execution_count": 16,
   "id": "7412809a",
   "metadata": {},
   "outputs": [
    {
     "data": {
      "text/html": [
       "<div>\n",
       "<style scoped>\n",
       "    .dataframe tbody tr th:only-of-type {\n",
       "        vertical-align: middle;\n",
       "    }\n",
       "\n",
       "    .dataframe tbody tr th {\n",
       "        vertical-align: top;\n",
       "    }\n",
       "\n",
       "    .dataframe thead th {\n",
       "        text-align: right;\n",
       "    }\n",
       "</style>\n",
       "<table border=\"1\" class=\"dataframe\">\n",
       "  <thead>\n",
       "    <tr style=\"text-align: right;\">\n",
       "      <th></th>\n",
       "      <th>State</th>\n",
       "      <th>Account Length</th>\n",
       "      <th>Area Code</th>\n",
       "      <th>Phone</th>\n",
       "      <th>Int'l Plan</th>\n",
       "      <th>VMail Plan</th>\n",
       "      <th>VMail Message</th>\n",
       "      <th>Day Mins</th>\n",
       "      <th>Day Calls</th>\n",
       "      <th>Day Charge</th>\n",
       "      <th>...</th>\n",
       "      <th>Eve Calls</th>\n",
       "      <th>Eve Charge</th>\n",
       "      <th>Night Mins</th>\n",
       "      <th>Night Calls</th>\n",
       "      <th>Night Charge</th>\n",
       "      <th>Intl Mins</th>\n",
       "      <th>Intl Calls</th>\n",
       "      <th>Intl Charge</th>\n",
       "      <th>CustServ Calls</th>\n",
       "      <th>Churn?</th>\n",
       "    </tr>\n",
       "  </thead>\n",
       "  <tbody>\n",
       "  </tbody>\n",
       "</table>\n",
       "<p>0 rows × 21 columns</p>\n",
       "</div>"
      ],
      "text/plain": [
       "Empty DataFrame\n",
       "Columns: [State, Account Length, Area Code, Phone, Int'l Plan, VMail Plan, VMail Message, Day Mins, Day Calls, Day Charge, Eve Mins, Eve Calls, Eve Charge, Night Mins, Night Calls, Night Charge, Intl Mins, Intl Calls, Intl Charge, CustServ Calls, Churn?]\n",
       "Index: []\n",
       "\n",
       "[0 rows x 21 columns]"
      ]
     },
     "execution_count": 16,
     "metadata": {},
     "output_type": "execute_result"
    }
   ],
   "source": [
    "df[df.duplicated()]"
   ]
  },
  {
   "cell_type": "code",
   "execution_count": 17,
   "id": "a04d4e38",
   "metadata": {},
   "outputs": [
    {
     "data": {
      "text/plain": [
       "0"
      ]
     },
     "execution_count": 17,
     "metadata": {},
     "output_type": "execute_result"
    }
   ],
   "source": [
    "df.duplicated().sum()"
   ]
  },
  {
   "cell_type": "code",
   "execution_count": 18,
   "id": "5404bb46",
   "metadata": {},
   "outputs": [
    {
     "data": {
      "text/plain": [
       "State             0\n",
       "Account Length    0\n",
       "Area Code         0\n",
       "Phone             0\n",
       "Int'l Plan        0\n",
       "VMail Plan        0\n",
       "VMail Message     0\n",
       "Day Mins          0\n",
       "Day Calls         0\n",
       "Day Charge        0\n",
       "Eve Mins          0\n",
       "Eve Calls         0\n",
       "Eve Charge        0\n",
       "Night Mins        0\n",
       "Night Calls       0\n",
       "Night Charge      0\n",
       "Intl Mins         0\n",
       "Intl Calls        0\n",
       "Intl Charge       0\n",
       "CustServ Calls    0\n",
       "Churn?            0\n",
       "dtype: int64"
      ]
     },
     "execution_count": 18,
     "metadata": {},
     "output_type": "execute_result"
    }
   ],
   "source": [
    "df.isnull().sum()"
   ]
  },
  {
   "cell_type": "code",
   "execution_count": 19,
   "id": "960408ce",
   "metadata": {},
   "outputs": [
    {
     "name": "stdout",
     "output_type": "stream",
     "text": [
      "There are  51 unique values in State column\n",
      "There are  200 unique values in Account Length column\n",
      "There are  33 unique values in Area Code column\n",
      "There are  4999 unique values in Phone column\n",
      "There are  2 unique values in Int'l Plan column\n",
      "There are  2 unique values in VMail Plan column\n",
      "There are  14 unique values in VMail Message column\n",
      "There are  5000 unique values in Day Mins column\n",
      "There are  11 unique values in Day Calls column\n",
      "There are  5000 unique values in Day Charge column\n",
      "There are  5000 unique values in Eve Mins column\n",
      "There are  15 unique values in Eve Calls column\n",
      "There are  5000 unique values in Eve Charge column\n",
      "There are  5000 unique values in Night Mins column\n",
      "There are  12 unique values in Night Calls column\n",
      "There are  5000 unique values in Night Charge column\n",
      "There are  5000 unique values in Intl Mins column\n",
      "There are  13 unique values in Intl Calls column\n",
      "There are  5000 unique values in Intl Charge column\n",
      "There are  14 unique values in CustServ Calls column\n",
      "There are  2 unique values in Churn? column\n"
     ]
    }
   ],
   "source": [
    "for i in df.columns:\n",
    "    a=df[i].nunique()\n",
    "    print('There are ',a,'unique values in',i,'column')"
   ]
  },
  {
   "cell_type": "code",
   "execution_count": 20,
   "id": "50dd4a95",
   "metadata": {},
   "outputs": [
    {
     "data": {
      "text/html": [
       "<div>\n",
       "<style scoped>\n",
       "    .dataframe tbody tr th:only-of-type {\n",
       "        vertical-align: middle;\n",
       "    }\n",
       "\n",
       "    .dataframe tbody tr th {\n",
       "        vertical-align: top;\n",
       "    }\n",
       "\n",
       "    .dataframe thead th {\n",
       "        text-align: right;\n",
       "    }\n",
       "</style>\n",
       "<table border=\"1\" class=\"dataframe\">\n",
       "  <thead>\n",
       "    <tr style=\"text-align: right;\">\n",
       "      <th></th>\n",
       "      <th>Account Length</th>\n",
       "      <th>Area Code</th>\n",
       "      <th>VMail Message</th>\n",
       "      <th>Day Mins</th>\n",
       "      <th>Day Calls</th>\n",
       "      <th>Day Charge</th>\n",
       "      <th>Eve Mins</th>\n",
       "      <th>Eve Calls</th>\n",
       "      <th>Eve Charge</th>\n",
       "      <th>Night Mins</th>\n",
       "      <th>Night Calls</th>\n",
       "      <th>Night Charge</th>\n",
       "      <th>Intl Mins</th>\n",
       "      <th>Intl Calls</th>\n",
       "      <th>Intl Charge</th>\n",
       "      <th>CustServ Calls</th>\n",
       "    </tr>\n",
       "    <tr>\n",
       "      <th>State</th>\n",
       "      <th></th>\n",
       "      <th></th>\n",
       "      <th></th>\n",
       "      <th></th>\n",
       "      <th></th>\n",
       "      <th></th>\n",
       "      <th></th>\n",
       "      <th></th>\n",
       "      <th></th>\n",
       "      <th></th>\n",
       "      <th></th>\n",
       "      <th></th>\n",
       "      <th></th>\n",
       "      <th></th>\n",
       "      <th></th>\n",
       "      <th></th>\n",
       "    </tr>\n",
       "  </thead>\n",
       "  <tbody>\n",
       "    <tr>\n",
       "      <th>AK</th>\n",
       "      <td>107.247059</td>\n",
       "      <td>657.0</td>\n",
       "      <td>244.705882</td>\n",
       "      <td>5.392138</td>\n",
       "      <td>3.282353</td>\n",
       "      <td>4.998264</td>\n",
       "      <td>4.928639</td>\n",
       "      <td>3.105882</td>\n",
       "      <td>4.915194</td>\n",
       "      <td>4.143292</td>\n",
       "      <td>220.588235</td>\n",
       "      <td>5.025403</td>\n",
       "      <td>4.943673</td>\n",
       "      <td>5.152941</td>\n",
       "      <td>4.532984</td>\n",
       "      <td>5.458824</td>\n",
       "    </tr>\n",
       "    <tr>\n",
       "      <th>AL</th>\n",
       "      <td>108.010000</td>\n",
       "      <td>657.0</td>\n",
       "      <td>244.000000</td>\n",
       "      <td>5.422205</td>\n",
       "      <td>3.110000</td>\n",
       "      <td>4.958242</td>\n",
       "      <td>4.976161</td>\n",
       "      <td>3.140000</td>\n",
       "      <td>5.104425</td>\n",
       "      <td>3.991954</td>\n",
       "      <td>231.500000</td>\n",
       "      <td>5.072385</td>\n",
       "      <td>4.880843</td>\n",
       "      <td>5.540000</td>\n",
       "      <td>4.496259</td>\n",
       "      <td>5.630000</td>\n",
       "    </tr>\n",
       "    <tr>\n",
       "      <th>AR</th>\n",
       "      <td>106.963636</td>\n",
       "      <td>658.0</td>\n",
       "      <td>215.454545</td>\n",
       "      <td>5.542617</td>\n",
       "      <td>3.500000</td>\n",
       "      <td>5.100387</td>\n",
       "      <td>5.177449</td>\n",
       "      <td>3.090909</td>\n",
       "      <td>4.980651</td>\n",
       "      <td>3.810176</td>\n",
       "      <td>238.181818</td>\n",
       "      <td>4.951196</td>\n",
       "      <td>5.077197</td>\n",
       "      <td>5.790909</td>\n",
       "      <td>4.260148</td>\n",
       "      <td>5.545455</td>\n",
       "    </tr>\n",
       "    <tr>\n",
       "      <th>AZ</th>\n",
       "      <td>95.855556</td>\n",
       "      <td>659.0</td>\n",
       "      <td>272.222222</td>\n",
       "      <td>6.208411</td>\n",
       "      <td>3.444444</td>\n",
       "      <td>5.066817</td>\n",
       "      <td>5.287960</td>\n",
       "      <td>3.000000</td>\n",
       "      <td>5.126064</td>\n",
       "      <td>4.075524</td>\n",
       "      <td>233.888889</td>\n",
       "      <td>4.986324</td>\n",
       "      <td>5.026467</td>\n",
       "      <td>5.566667</td>\n",
       "      <td>4.476106</td>\n",
       "      <td>5.533333</td>\n",
       "    </tr>\n",
       "    <tr>\n",
       "      <th>CA</th>\n",
       "      <td>102.163462</td>\n",
       "      <td>676.0</td>\n",
       "      <td>260.576923</td>\n",
       "      <td>5.321990</td>\n",
       "      <td>3.605769</td>\n",
       "      <td>4.598066</td>\n",
       "      <td>4.927612</td>\n",
       "      <td>3.125000</td>\n",
       "      <td>5.052180</td>\n",
       "      <td>4.150944</td>\n",
       "      <td>216.346154</td>\n",
       "      <td>4.887794</td>\n",
       "      <td>5.000179</td>\n",
       "      <td>5.230769</td>\n",
       "      <td>4.603237</td>\n",
       "      <td>5.346154</td>\n",
       "    </tr>\n",
       "    <tr>\n",
       "      <th>CO</th>\n",
       "      <td>100.175824</td>\n",
       "      <td>677.0</td>\n",
       "      <td>242.857143</td>\n",
       "      <td>5.553741</td>\n",
       "      <td>3.879121</td>\n",
       "      <td>4.987157</td>\n",
       "      <td>5.058607</td>\n",
       "      <td>3.351648</td>\n",
       "      <td>5.202471</td>\n",
       "      <td>4.163429</td>\n",
       "      <td>220.329670</td>\n",
       "      <td>5.110500</td>\n",
       "      <td>5.156655</td>\n",
       "      <td>5.065934</td>\n",
       "      <td>4.399483</td>\n",
       "      <td>5.549451</td>\n",
       "    </tr>\n",
       "    <tr>\n",
       "      <th>CT</th>\n",
       "      <td>106.314607</td>\n",
       "      <td>678.0</td>\n",
       "      <td>174.157303</td>\n",
       "      <td>5.463342</td>\n",
       "      <td>3.719101</td>\n",
       "      <td>5.087855</td>\n",
       "      <td>5.054138</td>\n",
       "      <td>3.179775</td>\n",
       "      <td>5.192175</td>\n",
       "      <td>4.154976</td>\n",
       "      <td>217.977528</td>\n",
       "      <td>5.336580</td>\n",
       "      <td>4.866008</td>\n",
       "      <td>5.426966</td>\n",
       "      <td>4.137358</td>\n",
       "      <td>5.764045</td>\n",
       "    </tr>\n",
       "    <tr>\n",
       "      <th>DC</th>\n",
       "      <td>100.687500</td>\n",
       "      <td>686.0</td>\n",
       "      <td>240.178571</td>\n",
       "      <td>5.753714</td>\n",
       "      <td>3.375000</td>\n",
       "      <td>5.163038</td>\n",
       "      <td>5.114377</td>\n",
       "      <td>3.187500</td>\n",
       "      <td>4.853997</td>\n",
       "      <td>4.055440</td>\n",
       "      <td>233.482143</td>\n",
       "      <td>4.865576</td>\n",
       "      <td>4.946210</td>\n",
       "      <td>5.892857</td>\n",
       "      <td>4.236280</td>\n",
       "      <td>5.258929</td>\n",
       "    </tr>\n",
       "    <tr>\n",
       "      <th>DE</th>\n",
       "      <td>102.824176</td>\n",
       "      <td>686.0</td>\n",
       "      <td>275.824176</td>\n",
       "      <td>5.533189</td>\n",
       "      <td>3.725275</td>\n",
       "      <td>4.815679</td>\n",
       "      <td>4.888801</td>\n",
       "      <td>3.087912</td>\n",
       "      <td>5.134551</td>\n",
       "      <td>3.817407</td>\n",
       "      <td>220.879121</td>\n",
       "      <td>5.090062</td>\n",
       "      <td>5.132622</td>\n",
       "      <td>5.846154</td>\n",
       "      <td>3.942804</td>\n",
       "      <td>5.681319</td>\n",
       "    </tr>\n",
       "    <tr>\n",
       "      <th>FL</th>\n",
       "      <td>104.820225</td>\n",
       "      <td>707.0</td>\n",
       "      <td>211.235955</td>\n",
       "      <td>5.405972</td>\n",
       "      <td>3.471910</td>\n",
       "      <td>4.892989</td>\n",
       "      <td>4.584011</td>\n",
       "      <td>3.348315</td>\n",
       "      <td>5.274738</td>\n",
       "      <td>4.204534</td>\n",
       "      <td>226.966292</td>\n",
       "      <td>4.818345</td>\n",
       "      <td>5.025401</td>\n",
       "      <td>5.651685</td>\n",
       "      <td>4.273730</td>\n",
       "      <td>5.483146</td>\n",
       "    </tr>\n",
       "    <tr>\n",
       "      <th>GA</th>\n",
       "      <td>114.554217</td>\n",
       "      <td>716.0</td>\n",
       "      <td>254.216867</td>\n",
       "      <td>5.574301</td>\n",
       "      <td>3.373494</td>\n",
       "      <td>5.487703</td>\n",
       "      <td>5.293629</td>\n",
       "      <td>3.397590</td>\n",
       "      <td>4.959559</td>\n",
       "      <td>4.144420</td>\n",
       "      <td>236.746988</td>\n",
       "      <td>4.913348</td>\n",
       "      <td>4.971687</td>\n",
       "      <td>5.240964</td>\n",
       "      <td>4.677342</td>\n",
       "      <td>5.289157</td>\n",
       "    </tr>\n",
       "    <tr>\n",
       "      <th>HI</th>\n",
       "      <td>103.073684</td>\n",
       "      <td>727.0</td>\n",
       "      <td>204.210526</td>\n",
       "      <td>5.480042</td>\n",
       "      <td>3.505263</td>\n",
       "      <td>4.920899</td>\n",
       "      <td>5.052895</td>\n",
       "      <td>3.010526</td>\n",
       "      <td>5.081081</td>\n",
       "      <td>3.924990</td>\n",
       "      <td>211.578947</td>\n",
       "      <td>5.225388</td>\n",
       "      <td>4.828607</td>\n",
       "      <td>5.178947</td>\n",
       "      <td>4.484440</td>\n",
       "      <td>5.536842</td>\n",
       "    </tr>\n",
       "    <tr>\n",
       "      <th>IA</th>\n",
       "      <td>111.601942</td>\n",
       "      <td>736.0</td>\n",
       "      <td>238.834951</td>\n",
       "      <td>5.832489</td>\n",
       "      <td>3.621359</td>\n",
       "      <td>5.312450</td>\n",
       "      <td>5.497208</td>\n",
       "      <td>3.087379</td>\n",
       "      <td>5.111395</td>\n",
       "      <td>3.934583</td>\n",
       "      <td>214.563107</td>\n",
       "      <td>5.075894</td>\n",
       "      <td>5.138957</td>\n",
       "      <td>5.912621</td>\n",
       "      <td>4.560148</td>\n",
       "      <td>5.300971</td>\n",
       "    </tr>\n",
       "    <tr>\n",
       "      <th>ID</th>\n",
       "      <td>110.927928</td>\n",
       "      <td>736.0</td>\n",
       "      <td>256.756757</td>\n",
       "      <td>5.510752</td>\n",
       "      <td>3.711712</td>\n",
       "      <td>5.105097</td>\n",
       "      <td>5.508746</td>\n",
       "      <td>3.063063</td>\n",
       "      <td>5.053024</td>\n",
       "      <td>3.841711</td>\n",
       "      <td>234.234234</td>\n",
       "      <td>4.949757</td>\n",
       "      <td>4.966145</td>\n",
       "      <td>5.756757</td>\n",
       "      <td>4.525305</td>\n",
       "      <td>5.477477</td>\n",
       "    </tr>\n",
       "    <tr>\n",
       "      <th>IL</th>\n",
       "      <td>100.959596</td>\n",
       "      <td>737.0</td>\n",
       "      <td>208.080808</td>\n",
       "      <td>5.240835</td>\n",
       "      <td>3.373737</td>\n",
       "      <td>4.912654</td>\n",
       "      <td>4.936131</td>\n",
       "      <td>3.121212</td>\n",
       "      <td>4.918869</td>\n",
       "      <td>4.013373</td>\n",
       "      <td>236.363636</td>\n",
       "      <td>4.953186</td>\n",
       "      <td>5.119068</td>\n",
       "      <td>5.555556</td>\n",
       "      <td>4.093378</td>\n",
       "      <td>5.585859</td>\n",
       "    </tr>\n",
       "    <tr>\n",
       "      <th>IN</th>\n",
       "      <td>104.663158</td>\n",
       "      <td>737.0</td>\n",
       "      <td>293.684211</td>\n",
       "      <td>5.456115</td>\n",
       "      <td>3.263158</td>\n",
       "      <td>5.129272</td>\n",
       "      <td>4.766101</td>\n",
       "      <td>3.263158</td>\n",
       "      <td>4.821022</td>\n",
       "      <td>4.101038</td>\n",
       "      <td>230.526316</td>\n",
       "      <td>5.017363</td>\n",
       "      <td>4.918413</td>\n",
       "      <td>5.663158</td>\n",
       "      <td>4.059409</td>\n",
       "      <td>5.747368</td>\n",
       "    </tr>\n",
       "    <tr>\n",
       "      <th>KS</th>\n",
       "      <td>102.544304</td>\n",
       "      <td>758.0</td>\n",
       "      <td>212.658228</td>\n",
       "      <td>5.709084</td>\n",
       "      <td>3.341772</td>\n",
       "      <td>5.007949</td>\n",
       "      <td>4.855179</td>\n",
       "      <td>2.848101</td>\n",
       "      <td>5.329068</td>\n",
       "      <td>4.045071</td>\n",
       "      <td>220.253165</td>\n",
       "      <td>5.130991</td>\n",
       "      <td>5.108419</td>\n",
       "      <td>5.240506</td>\n",
       "      <td>4.399147</td>\n",
       "      <td>5.658228</td>\n",
       "    </tr>\n",
       "    <tr>\n",
       "      <th>KY</th>\n",
       "      <td>91.318681</td>\n",
       "      <td>758.0</td>\n",
       "      <td>212.087912</td>\n",
       "      <td>5.531452</td>\n",
       "      <td>3.494505</td>\n",
       "      <td>4.956514</td>\n",
       "      <td>4.951128</td>\n",
       "      <td>3.395604</td>\n",
       "      <td>4.979349</td>\n",
       "      <td>4.060357</td>\n",
       "      <td>208.791209</td>\n",
       "      <td>5.071912</td>\n",
       "      <td>4.921513</td>\n",
       "      <td>5.406593</td>\n",
       "      <td>4.450402</td>\n",
       "      <td>5.527473</td>\n",
       "    </tr>\n",
       "    <tr>\n",
       "      <th>LA</th>\n",
       "      <td>96.217822</td>\n",
       "      <td>766.0</td>\n",
       "      <td>175.247525</td>\n",
       "      <td>5.151959</td>\n",
       "      <td>3.326733</td>\n",
       "      <td>4.829106</td>\n",
       "      <td>5.053836</td>\n",
       "      <td>2.841584</td>\n",
       "      <td>4.831753</td>\n",
       "      <td>3.764384</td>\n",
       "      <td>232.673267</td>\n",
       "      <td>5.007023</td>\n",
       "      <td>5.016703</td>\n",
       "      <td>5.495050</td>\n",
       "      <td>4.199038</td>\n",
       "      <td>5.653465</td>\n",
       "    </tr>\n",
       "    <tr>\n",
       "      <th>MA</th>\n",
       "      <td>101.500000</td>\n",
       "      <td>776.0</td>\n",
       "      <td>190.384615</td>\n",
       "      <td>5.515931</td>\n",
       "      <td>3.365385</td>\n",
       "      <td>5.211910</td>\n",
       "      <td>4.730965</td>\n",
       "      <td>3.769231</td>\n",
       "      <td>4.763344</td>\n",
       "      <td>4.009083</td>\n",
       "      <td>202.403846</td>\n",
       "      <td>5.127425</td>\n",
       "      <td>4.919755</td>\n",
       "      <td>5.403846</td>\n",
       "      <td>3.944629</td>\n",
       "      <td>5.442308</td>\n",
       "    </tr>\n",
       "    <tr>\n",
       "      <th>MD</th>\n",
       "      <td>95.017699</td>\n",
       "      <td>776.0</td>\n",
       "      <td>217.699115</td>\n",
       "      <td>5.832506</td>\n",
       "      <td>3.345133</td>\n",
       "      <td>5.325789</td>\n",
       "      <td>5.255795</td>\n",
       "      <td>3.061947</td>\n",
       "      <td>5.060901</td>\n",
       "      <td>3.859477</td>\n",
       "      <td>222.123894</td>\n",
       "      <td>5.138016</td>\n",
       "      <td>4.929868</td>\n",
       "      <td>5.725664</td>\n",
       "      <td>4.230036</td>\n",
       "      <td>5.424779</td>\n",
       "    </tr>\n",
       "    <tr>\n",
       "      <th>ME</th>\n",
       "      <td>109.689189</td>\n",
       "      <td>776.0</td>\n",
       "      <td>168.918919</td>\n",
       "      <td>5.508612</td>\n",
       "      <td>3.513514</td>\n",
       "      <td>5.255166</td>\n",
       "      <td>4.844004</td>\n",
       "      <td>3.486486</td>\n",
       "      <td>5.101811</td>\n",
       "      <td>3.973560</td>\n",
       "      <td>206.081081</td>\n",
       "      <td>5.268970</td>\n",
       "      <td>4.801726</td>\n",
       "      <td>4.891892</td>\n",
       "      <td>4.257215</td>\n",
       "      <td>5.621622</td>\n",
       "    </tr>\n",
       "    <tr>\n",
       "      <th>MI</th>\n",
       "      <td>101.346535</td>\n",
       "      <td>777.0</td>\n",
       "      <td>232.673267</td>\n",
       "      <td>5.645637</td>\n",
       "      <td>3.356436</td>\n",
       "      <td>5.006035</td>\n",
       "      <td>5.217917</td>\n",
       "      <td>3.198020</td>\n",
       "      <td>4.760999</td>\n",
       "      <td>3.965457</td>\n",
       "      <td>229.207921</td>\n",
       "      <td>4.695889</td>\n",
       "      <td>5.010159</td>\n",
       "      <td>5.643564</td>\n",
       "      <td>4.723660</td>\n",
       "      <td>5.297030</td>\n",
       "    </tr>\n",
       "    <tr>\n",
       "      <th>MN</th>\n",
       "      <td>102.481818</td>\n",
       "      <td>777.0</td>\n",
       "      <td>230.909091</td>\n",
       "      <td>5.539000</td>\n",
       "      <td>3.627273</td>\n",
       "      <td>4.898198</td>\n",
       "      <td>4.569694</td>\n",
       "      <td>3.336364</td>\n",
       "      <td>5.137316</td>\n",
       "      <td>3.966750</td>\n",
       "      <td>223.181818</td>\n",
       "      <td>5.035417</td>\n",
       "      <td>5.024728</td>\n",
       "      <td>5.400000</td>\n",
       "      <td>4.010842</td>\n",
       "      <td>5.581818</td>\n",
       "    </tr>\n",
       "    <tr>\n",
       "      <th>MO</th>\n",
       "      <td>99.943396</td>\n",
       "      <td>777.0</td>\n",
       "      <td>219.811321</td>\n",
       "      <td>5.429914</td>\n",
       "      <td>3.405660</td>\n",
       "      <td>5.022827</td>\n",
       "      <td>5.178365</td>\n",
       "      <td>3.424528</td>\n",
       "      <td>4.868232</td>\n",
       "      <td>4.295749</td>\n",
       "      <td>229.716981</td>\n",
       "      <td>5.031372</td>\n",
       "      <td>4.996952</td>\n",
       "      <td>5.235849</td>\n",
       "      <td>4.492448</td>\n",
       "      <td>5.264151</td>\n",
       "    </tr>\n",
       "    <tr>\n",
       "      <th>MS</th>\n",
       "      <td>118.556604</td>\n",
       "      <td>778.0</td>\n",
       "      <td>241.509434</td>\n",
       "      <td>5.593555</td>\n",
       "      <td>3.349057</td>\n",
       "      <td>5.096128</td>\n",
       "      <td>5.143775</td>\n",
       "      <td>3.179245</td>\n",
       "      <td>5.010928</td>\n",
       "      <td>3.976411</td>\n",
       "      <td>233.962264</td>\n",
       "      <td>5.087056</td>\n",
       "      <td>4.816838</td>\n",
       "      <td>5.415094</td>\n",
       "      <td>4.268805</td>\n",
       "      <td>5.603774</td>\n",
       "    </tr>\n",
       "    <tr>\n",
       "      <th>MT</th>\n",
       "      <td>99.911111</td>\n",
       "      <td>778.0</td>\n",
       "      <td>195.555556</td>\n",
       "      <td>5.784644</td>\n",
       "      <td>3.588889</td>\n",
       "      <td>5.154913</td>\n",
       "      <td>5.044826</td>\n",
       "      <td>3.033333</td>\n",
       "      <td>5.125328</td>\n",
       "      <td>3.943543</td>\n",
       "      <td>223.333333</td>\n",
       "      <td>4.994179</td>\n",
       "      <td>5.017799</td>\n",
       "      <td>5.555556</td>\n",
       "      <td>4.148341</td>\n",
       "      <td>5.644444</td>\n",
       "    </tr>\n",
       "    <tr>\n",
       "      <th>NC</th>\n",
       "      <td>100.768421</td>\n",
       "      <td>786.0</td>\n",
       "      <td>186.315789</td>\n",
       "      <td>6.110539</td>\n",
       "      <td>3.357895</td>\n",
       "      <td>5.053880</td>\n",
       "      <td>5.100817</td>\n",
       "      <td>2.589474</td>\n",
       "      <td>5.329372</td>\n",
       "      <td>3.809517</td>\n",
       "      <td>220.526316</td>\n",
       "      <td>5.247216</td>\n",
       "      <td>5.194933</td>\n",
       "      <td>5.189474</td>\n",
       "      <td>4.389055</td>\n",
       "      <td>5.578947</td>\n",
       "    </tr>\n",
       "    <tr>\n",
       "      <th>ND</th>\n",
       "      <td>111.137500</td>\n",
       "      <td>786.0</td>\n",
       "      <td>181.250000</td>\n",
       "      <td>5.483237</td>\n",
       "      <td>3.487500</td>\n",
       "      <td>5.095168</td>\n",
       "      <td>5.016862</td>\n",
       "      <td>3.275000</td>\n",
       "      <td>4.992721</td>\n",
       "      <td>3.903556</td>\n",
       "      <td>237.500000</td>\n",
       "      <td>4.967053</td>\n",
       "      <td>5.012407</td>\n",
       "      <td>5.187500</td>\n",
       "      <td>4.349706</td>\n",
       "      <td>5.437500</td>\n",
       "    </tr>\n",
       "    <tr>\n",
       "      <th>NE</th>\n",
       "      <td>98.605505</td>\n",
       "      <td>786.0</td>\n",
       "      <td>248.623853</td>\n",
       "      <td>5.471054</td>\n",
       "      <td>3.266055</td>\n",
       "      <td>4.865653</td>\n",
       "      <td>5.034961</td>\n",
       "      <td>2.550459</td>\n",
       "      <td>4.972595</td>\n",
       "      <td>3.783808</td>\n",
       "      <td>219.724771</td>\n",
       "      <td>5.013538</td>\n",
       "      <td>5.068611</td>\n",
       "      <td>5.623853</td>\n",
       "      <td>4.225382</td>\n",
       "      <td>5.669725</td>\n",
       "    </tr>\n",
       "    <tr>\n",
       "      <th>NH</th>\n",
       "      <td>100.053191</td>\n",
       "      <td>787.0</td>\n",
       "      <td>222.340426</td>\n",
       "      <td>5.550213</td>\n",
       "      <td>3.744681</td>\n",
       "      <td>5.020448</td>\n",
       "      <td>4.875080</td>\n",
       "      <td>3.010638</td>\n",
       "      <td>5.155938</td>\n",
       "      <td>4.044392</td>\n",
       "      <td>225.531915</td>\n",
       "      <td>5.067868</td>\n",
       "      <td>4.877707</td>\n",
       "      <td>5.223404</td>\n",
       "      <td>4.356784</td>\n",
       "      <td>5.659574</td>\n",
       "    </tr>\n",
       "    <tr>\n",
       "      <th>NJ</th>\n",
       "      <td>102.861386</td>\n",
       "      <td>787.0</td>\n",
       "      <td>226.732673</td>\n",
       "      <td>5.313839</td>\n",
       "      <td>3.297030</td>\n",
       "      <td>4.926634</td>\n",
       "      <td>5.207980</td>\n",
       "      <td>2.801980</td>\n",
       "      <td>5.006354</td>\n",
       "      <td>3.810543</td>\n",
       "      <td>234.653465</td>\n",
       "      <td>4.852977</td>\n",
       "      <td>5.092074</td>\n",
       "      <td>5.435644</td>\n",
       "      <td>4.698062</td>\n",
       "      <td>5.514851</td>\n",
       "    </tr>\n",
       "    <tr>\n",
       "      <th>NM</th>\n",
       "      <td>98.313253</td>\n",
       "      <td>787.0</td>\n",
       "      <td>291.566265</td>\n",
       "      <td>5.222135</td>\n",
       "      <td>3.662651</td>\n",
       "      <td>4.910685</td>\n",
       "      <td>5.074162</td>\n",
       "      <td>3.253012</td>\n",
       "      <td>4.924238</td>\n",
       "      <td>4.098861</td>\n",
       "      <td>228.313253</td>\n",
       "      <td>4.874713</td>\n",
       "      <td>5.173338</td>\n",
       "      <td>5.710843</td>\n",
       "      <td>4.362226</td>\n",
       "      <td>5.518072</td>\n",
       "    </tr>\n",
       "    <tr>\n",
       "      <th>NV</th>\n",
       "      <td>98.646465</td>\n",
       "      <td>788.0</td>\n",
       "      <td>234.343434</td>\n",
       "      <td>4.994100</td>\n",
       "      <td>3.838384</td>\n",
       "      <td>5.110997</td>\n",
       "      <td>4.960113</td>\n",
       "      <td>3.737374</td>\n",
       "      <td>4.693120</td>\n",
       "      <td>3.927326</td>\n",
       "      <td>228.787879</td>\n",
       "      <td>4.920968</td>\n",
       "      <td>4.926316</td>\n",
       "      <td>5.505051</td>\n",
       "      <td>4.199254</td>\n",
       "      <td>5.303030</td>\n",
       "    </tr>\n",
       "    <tr>\n",
       "      <th>NY</th>\n",
       "      <td>95.265306</td>\n",
       "      <td>788.0</td>\n",
       "      <td>230.612245</td>\n",
       "      <td>5.478776</td>\n",
       "      <td>3.530612</td>\n",
       "      <td>5.187194</td>\n",
       "      <td>5.385006</td>\n",
       "      <td>2.938776</td>\n",
       "      <td>4.835504</td>\n",
       "      <td>3.735482</td>\n",
       "      <td>222.448980</td>\n",
       "      <td>5.147423</td>\n",
       "      <td>5.095103</td>\n",
       "      <td>5.346939</td>\n",
       "      <td>4.444986</td>\n",
       "      <td>5.653061</td>\n",
       "    </tr>\n",
       "    <tr>\n",
       "      <th>OH</th>\n",
       "      <td>103.783784</td>\n",
       "      <td>797.0</td>\n",
       "      <td>197.297297</td>\n",
       "      <td>5.825119</td>\n",
       "      <td>3.612613</td>\n",
       "      <td>5.163460</td>\n",
       "      <td>5.044162</td>\n",
       "      <td>3.000000</td>\n",
       "      <td>5.331663</td>\n",
       "      <td>4.162110</td>\n",
       "      <td>207.207207</td>\n",
       "      <td>5.247574</td>\n",
       "      <td>5.256097</td>\n",
       "      <td>5.504505</td>\n",
       "      <td>4.296225</td>\n",
       "      <td>5.486486</td>\n",
       "    </tr>\n",
       "    <tr>\n",
       "      <th>OK</th>\n",
       "      <td>106.709677</td>\n",
       "      <td>797.0</td>\n",
       "      <td>235.483871</td>\n",
       "      <td>5.320998</td>\n",
       "      <td>3.623656</td>\n",
       "      <td>4.944679</td>\n",
       "      <td>4.677265</td>\n",
       "      <td>3.849462</td>\n",
       "      <td>4.689387</td>\n",
       "      <td>4.351313</td>\n",
       "      <td>227.419355</td>\n",
       "      <td>4.654974</td>\n",
       "      <td>5.116418</td>\n",
       "      <td>5.698925</td>\n",
       "      <td>4.211648</td>\n",
       "      <td>5.225806</td>\n",
       "    </tr>\n",
       "    <tr>\n",
       "      <th>OR</th>\n",
       "      <td>99.774510</td>\n",
       "      <td>798.0</td>\n",
       "      <td>232.352941</td>\n",
       "      <td>5.918696</td>\n",
       "      <td>3.676471</td>\n",
       "      <td>5.066996</td>\n",
       "      <td>5.152299</td>\n",
       "      <td>3.509804</td>\n",
       "      <td>5.026832</td>\n",
       "      <td>4.018154</td>\n",
       "      <td>217.156863</td>\n",
       "      <td>5.039801</td>\n",
       "      <td>5.135647</td>\n",
       "      <td>5.519608</td>\n",
       "      <td>4.463148</td>\n",
       "      <td>5.362745</td>\n",
       "    </tr>\n",
       "    <tr>\n",
       "      <th>PA</th>\n",
       "      <td>104.484848</td>\n",
       "      <td>806.0</td>\n",
       "      <td>220.202020</td>\n",
       "      <td>5.926530</td>\n",
       "      <td>3.525253</td>\n",
       "      <td>4.986539</td>\n",
       "      <td>4.981677</td>\n",
       "      <td>2.969697</td>\n",
       "      <td>5.367103</td>\n",
       "      <td>4.108846</td>\n",
       "      <td>206.565657</td>\n",
       "      <td>5.242421</td>\n",
       "      <td>5.214963</td>\n",
       "      <td>5.535354</td>\n",
       "      <td>4.457418</td>\n",
       "      <td>5.383838</td>\n",
       "    </tr>\n",
       "    <tr>\n",
       "      <th>RI</th>\n",
       "      <td>104.591667</td>\n",
       "      <td>827.0</td>\n",
       "      <td>210.000000</td>\n",
       "      <td>5.421662</td>\n",
       "      <td>3.491667</td>\n",
       "      <td>5.210821</td>\n",
       "      <td>5.011306</td>\n",
       "      <td>3.383333</td>\n",
       "      <td>4.826565</td>\n",
       "      <td>3.967932</td>\n",
       "      <td>237.500000</td>\n",
       "      <td>4.986330</td>\n",
       "      <td>5.028246</td>\n",
       "      <td>5.608333</td>\n",
       "      <td>4.093434</td>\n",
       "      <td>5.558333</td>\n",
       "    </tr>\n",
       "    <tr>\n",
       "      <th>SC</th>\n",
       "      <td>87.283186</td>\n",
       "      <td>836.0</td>\n",
       "      <td>226.548673</td>\n",
       "      <td>5.660740</td>\n",
       "      <td>3.610619</td>\n",
       "      <td>4.928440</td>\n",
       "      <td>5.018931</td>\n",
       "      <td>2.920354</td>\n",
       "      <td>5.293971</td>\n",
       "      <td>4.134787</td>\n",
       "      <td>211.946903</td>\n",
       "      <td>5.275853</td>\n",
       "      <td>4.932718</td>\n",
       "      <td>5.327434</td>\n",
       "      <td>4.544350</td>\n",
       "      <td>5.336283</td>\n",
       "    </tr>\n",
       "    <tr>\n",
       "      <th>SD</th>\n",
       "      <td>88.450980</td>\n",
       "      <td>836.0</td>\n",
       "      <td>202.941176</td>\n",
       "      <td>5.198744</td>\n",
       "      <td>3.450980</td>\n",
       "      <td>4.881898</td>\n",
       "      <td>4.672391</td>\n",
       "      <td>3.303922</td>\n",
       "      <td>4.771719</td>\n",
       "      <td>4.025311</td>\n",
       "      <td>226.470588</td>\n",
       "      <td>4.809342</td>\n",
       "      <td>5.071374</td>\n",
       "      <td>5.558824</td>\n",
       "      <td>4.090043</td>\n",
       "      <td>5.421569</td>\n",
       "    </tr>\n",
       "    <tr>\n",
       "      <th>TN</th>\n",
       "      <td>101.000000</td>\n",
       "      <td>847.0</td>\n",
       "      <td>237.113402</td>\n",
       "      <td>4.741543</td>\n",
       "      <td>3.494845</td>\n",
       "      <td>4.568365</td>\n",
       "      <td>4.699882</td>\n",
       "      <td>3.175258</td>\n",
       "      <td>4.782405</td>\n",
       "      <td>4.117136</td>\n",
       "      <td>243.298969</td>\n",
       "      <td>4.673113</td>\n",
       "      <td>5.058045</td>\n",
       "      <td>5.402062</td>\n",
       "      <td>4.326439</td>\n",
       "      <td>5.505155</td>\n",
       "    </tr>\n",
       "    <tr>\n",
       "      <th>TX</th>\n",
       "      <td>95.836735</td>\n",
       "      <td>848.0</td>\n",
       "      <td>248.979592</td>\n",
       "      <td>6.088466</td>\n",
       "      <td>3.551020</td>\n",
       "      <td>4.950191</td>\n",
       "      <td>5.313499</td>\n",
       "      <td>2.775510</td>\n",
       "      <td>5.287397</td>\n",
       "      <td>4.441347</td>\n",
       "      <td>211.224490</td>\n",
       "      <td>5.022745</td>\n",
       "      <td>4.941994</td>\n",
       "      <td>5.500000</td>\n",
       "      <td>4.747551</td>\n",
       "      <td>5.438776</td>\n",
       "    </tr>\n",
       "    <tr>\n",
       "      <th>UT</th>\n",
       "      <td>100.031579</td>\n",
       "      <td>858.0</td>\n",
       "      <td>204.210526</td>\n",
       "      <td>5.361954</td>\n",
       "      <td>3.378947</td>\n",
       "      <td>4.806180</td>\n",
       "      <td>5.118302</td>\n",
       "      <td>2.800000</td>\n",
       "      <td>4.880221</td>\n",
       "      <td>3.911295</td>\n",
       "      <td>229.473684</td>\n",
       "      <td>5.097688</td>\n",
       "      <td>4.971623</td>\n",
       "      <td>5.536842</td>\n",
       "      <td>4.216135</td>\n",
       "      <td>5.821053</td>\n",
       "    </tr>\n",
       "    <tr>\n",
       "      <th>VA</th>\n",
       "      <td>95.303030</td>\n",
       "      <td>866.0</td>\n",
       "      <td>211.111111</td>\n",
       "      <td>5.470962</td>\n",
       "      <td>3.727273</td>\n",
       "      <td>5.112812</td>\n",
       "      <td>5.168118</td>\n",
       "      <td>3.242424</td>\n",
       "      <td>4.853063</td>\n",
       "      <td>3.882937</td>\n",
       "      <td>236.868687</td>\n",
       "      <td>4.838843</td>\n",
       "      <td>5.248788</td>\n",
       "      <td>5.484848</td>\n",
       "      <td>4.380164</td>\n",
       "      <td>5.565657</td>\n",
       "    </tr>\n",
       "    <tr>\n",
       "      <th>VT</th>\n",
       "      <td>94.340206</td>\n",
       "      <td>868.0</td>\n",
       "      <td>247.422680</td>\n",
       "      <td>5.620696</td>\n",
       "      <td>3.360825</td>\n",
       "      <td>5.146631</td>\n",
       "      <td>5.243065</td>\n",
       "      <td>2.649485</td>\n",
       "      <td>5.233228</td>\n",
       "      <td>3.868113</td>\n",
       "      <td>229.896907</td>\n",
       "      <td>5.350715</td>\n",
       "      <td>5.233362</td>\n",
       "      <td>5.412371</td>\n",
       "      <td>4.146650</td>\n",
       "      <td>6.051546</td>\n",
       "    </tr>\n",
       "    <tr>\n",
       "      <th>WA</th>\n",
       "      <td>96.158416</td>\n",
       "      <td>876.0</td>\n",
       "      <td>248.514851</td>\n",
       "      <td>5.454162</td>\n",
       "      <td>3.544554</td>\n",
       "      <td>4.957053</td>\n",
       "      <td>5.003781</td>\n",
       "      <td>3.138614</td>\n",
       "      <td>5.139974</td>\n",
       "      <td>3.955909</td>\n",
       "      <td>233.168317</td>\n",
       "      <td>4.945790</td>\n",
       "      <td>4.892931</td>\n",
       "      <td>5.396040</td>\n",
       "      <td>4.505011</td>\n",
       "      <td>5.544554</td>\n",
       "    </tr>\n",
       "    <tr>\n",
       "      <th>WI</th>\n",
       "      <td>105.070588</td>\n",
       "      <td>877.0</td>\n",
       "      <td>207.058824</td>\n",
       "      <td>5.046240</td>\n",
       "      <td>3.588235</td>\n",
       "      <td>4.913250</td>\n",
       "      <td>4.847035</td>\n",
       "      <td>3.352941</td>\n",
       "      <td>4.888089</td>\n",
       "      <td>4.174260</td>\n",
       "      <td>222.941176</td>\n",
       "      <td>4.694063</td>\n",
       "      <td>5.029966</td>\n",
       "      <td>5.447059</td>\n",
       "      <td>4.420356</td>\n",
       "      <td>5.482353</td>\n",
       "    </tr>\n",
       "    <tr>\n",
       "      <th>WV</th>\n",
       "      <td>107.278846</td>\n",
       "      <td>878.0</td>\n",
       "      <td>252.884615</td>\n",
       "      <td>5.766255</td>\n",
       "      <td>3.682692</td>\n",
       "      <td>5.115171</td>\n",
       "      <td>5.010519</td>\n",
       "      <td>2.903846</td>\n",
       "      <td>5.211086</td>\n",
       "      <td>3.706347</td>\n",
       "      <td>222.115385</td>\n",
       "      <td>5.221215</td>\n",
       "      <td>5.185997</td>\n",
       "      <td>5.336538</td>\n",
       "      <td>4.272644</td>\n",
       "      <td>5.711538</td>\n",
       "    </tr>\n",
       "    <tr>\n",
       "      <th>WY</th>\n",
       "      <td>96.203883</td>\n",
       "      <td>878.0</td>\n",
       "      <td>210.679612</td>\n",
       "      <td>4.957358</td>\n",
       "      <td>3.582524</td>\n",
       "      <td>4.735221</td>\n",
       "      <td>4.623542</td>\n",
       "      <td>3.067961</td>\n",
       "      <td>4.750568</td>\n",
       "      <td>3.893587</td>\n",
       "      <td>223.786408</td>\n",
       "      <td>5.109618</td>\n",
       "      <td>4.966825</td>\n",
       "      <td>5.417476</td>\n",
       "      <td>3.788134</td>\n",
       "      <td>5.805825</td>\n",
       "    </tr>\n",
       "  </tbody>\n",
       "</table>\n",
       "</div>"
      ],
      "text/plain": [
       "       Account Length  Area Code  VMail Message  Day Mins  Day Calls  \\\n",
       "State                                                                  \n",
       "AK         107.247059      657.0     244.705882  5.392138   3.282353   \n",
       "AL         108.010000      657.0     244.000000  5.422205   3.110000   \n",
       "AR         106.963636      658.0     215.454545  5.542617   3.500000   \n",
       "AZ          95.855556      659.0     272.222222  6.208411   3.444444   \n",
       "CA         102.163462      676.0     260.576923  5.321990   3.605769   \n",
       "CO         100.175824      677.0     242.857143  5.553741   3.879121   \n",
       "CT         106.314607      678.0     174.157303  5.463342   3.719101   \n",
       "DC         100.687500      686.0     240.178571  5.753714   3.375000   \n",
       "DE         102.824176      686.0     275.824176  5.533189   3.725275   \n",
       "FL         104.820225      707.0     211.235955  5.405972   3.471910   \n",
       "GA         114.554217      716.0     254.216867  5.574301   3.373494   \n",
       "HI         103.073684      727.0     204.210526  5.480042   3.505263   \n",
       "IA         111.601942      736.0     238.834951  5.832489   3.621359   \n",
       "ID         110.927928      736.0     256.756757  5.510752   3.711712   \n",
       "IL         100.959596      737.0     208.080808  5.240835   3.373737   \n",
       "IN         104.663158      737.0     293.684211  5.456115   3.263158   \n",
       "KS         102.544304      758.0     212.658228  5.709084   3.341772   \n",
       "KY          91.318681      758.0     212.087912  5.531452   3.494505   \n",
       "LA          96.217822      766.0     175.247525  5.151959   3.326733   \n",
       "MA         101.500000      776.0     190.384615  5.515931   3.365385   \n",
       "MD          95.017699      776.0     217.699115  5.832506   3.345133   \n",
       "ME         109.689189      776.0     168.918919  5.508612   3.513514   \n",
       "MI         101.346535      777.0     232.673267  5.645637   3.356436   \n",
       "MN         102.481818      777.0     230.909091  5.539000   3.627273   \n",
       "MO          99.943396      777.0     219.811321  5.429914   3.405660   \n",
       "MS         118.556604      778.0     241.509434  5.593555   3.349057   \n",
       "MT          99.911111      778.0     195.555556  5.784644   3.588889   \n",
       "NC         100.768421      786.0     186.315789  6.110539   3.357895   \n",
       "ND         111.137500      786.0     181.250000  5.483237   3.487500   \n",
       "NE          98.605505      786.0     248.623853  5.471054   3.266055   \n",
       "NH         100.053191      787.0     222.340426  5.550213   3.744681   \n",
       "NJ         102.861386      787.0     226.732673  5.313839   3.297030   \n",
       "NM          98.313253      787.0     291.566265  5.222135   3.662651   \n",
       "NV          98.646465      788.0     234.343434  4.994100   3.838384   \n",
       "NY          95.265306      788.0     230.612245  5.478776   3.530612   \n",
       "OH         103.783784      797.0     197.297297  5.825119   3.612613   \n",
       "OK         106.709677      797.0     235.483871  5.320998   3.623656   \n",
       "OR          99.774510      798.0     232.352941  5.918696   3.676471   \n",
       "PA         104.484848      806.0     220.202020  5.926530   3.525253   \n",
       "RI         104.591667      827.0     210.000000  5.421662   3.491667   \n",
       "SC          87.283186      836.0     226.548673  5.660740   3.610619   \n",
       "SD          88.450980      836.0     202.941176  5.198744   3.450980   \n",
       "TN         101.000000      847.0     237.113402  4.741543   3.494845   \n",
       "TX          95.836735      848.0     248.979592  6.088466   3.551020   \n",
       "UT         100.031579      858.0     204.210526  5.361954   3.378947   \n",
       "VA          95.303030      866.0     211.111111  5.470962   3.727273   \n",
       "VT          94.340206      868.0     247.422680  5.620696   3.360825   \n",
       "WA          96.158416      876.0     248.514851  5.454162   3.544554   \n",
       "WI         105.070588      877.0     207.058824  5.046240   3.588235   \n",
       "WV         107.278846      878.0     252.884615  5.766255   3.682692   \n",
       "WY          96.203883      878.0     210.679612  4.957358   3.582524   \n",
       "\n",
       "       Day Charge  Eve Mins  Eve Calls  Eve Charge  Night Mins  Night Calls  \\\n",
       "State                                                                         \n",
       "AK       4.998264  4.928639   3.105882    4.915194    4.143292   220.588235   \n",
       "AL       4.958242  4.976161   3.140000    5.104425    3.991954   231.500000   \n",
       "AR       5.100387  5.177449   3.090909    4.980651    3.810176   238.181818   \n",
       "AZ       5.066817  5.287960   3.000000    5.126064    4.075524   233.888889   \n",
       "CA       4.598066  4.927612   3.125000    5.052180    4.150944   216.346154   \n",
       "CO       4.987157  5.058607   3.351648    5.202471    4.163429   220.329670   \n",
       "CT       5.087855  5.054138   3.179775    5.192175    4.154976   217.977528   \n",
       "DC       5.163038  5.114377   3.187500    4.853997    4.055440   233.482143   \n",
       "DE       4.815679  4.888801   3.087912    5.134551    3.817407   220.879121   \n",
       "FL       4.892989  4.584011   3.348315    5.274738    4.204534   226.966292   \n",
       "GA       5.487703  5.293629   3.397590    4.959559    4.144420   236.746988   \n",
       "HI       4.920899  5.052895   3.010526    5.081081    3.924990   211.578947   \n",
       "IA       5.312450  5.497208   3.087379    5.111395    3.934583   214.563107   \n",
       "ID       5.105097  5.508746   3.063063    5.053024    3.841711   234.234234   \n",
       "IL       4.912654  4.936131   3.121212    4.918869    4.013373   236.363636   \n",
       "IN       5.129272  4.766101   3.263158    4.821022    4.101038   230.526316   \n",
       "KS       5.007949  4.855179   2.848101    5.329068    4.045071   220.253165   \n",
       "KY       4.956514  4.951128   3.395604    4.979349    4.060357   208.791209   \n",
       "LA       4.829106  5.053836   2.841584    4.831753    3.764384   232.673267   \n",
       "MA       5.211910  4.730965   3.769231    4.763344    4.009083   202.403846   \n",
       "MD       5.325789  5.255795   3.061947    5.060901    3.859477   222.123894   \n",
       "ME       5.255166  4.844004   3.486486    5.101811    3.973560   206.081081   \n",
       "MI       5.006035  5.217917   3.198020    4.760999    3.965457   229.207921   \n",
       "MN       4.898198  4.569694   3.336364    5.137316    3.966750   223.181818   \n",
       "MO       5.022827  5.178365   3.424528    4.868232    4.295749   229.716981   \n",
       "MS       5.096128  5.143775   3.179245    5.010928    3.976411   233.962264   \n",
       "MT       5.154913  5.044826   3.033333    5.125328    3.943543   223.333333   \n",
       "NC       5.053880  5.100817   2.589474    5.329372    3.809517   220.526316   \n",
       "ND       5.095168  5.016862   3.275000    4.992721    3.903556   237.500000   \n",
       "NE       4.865653  5.034961   2.550459    4.972595    3.783808   219.724771   \n",
       "NH       5.020448  4.875080   3.010638    5.155938    4.044392   225.531915   \n",
       "NJ       4.926634  5.207980   2.801980    5.006354    3.810543   234.653465   \n",
       "NM       4.910685  5.074162   3.253012    4.924238    4.098861   228.313253   \n",
       "NV       5.110997  4.960113   3.737374    4.693120    3.927326   228.787879   \n",
       "NY       5.187194  5.385006   2.938776    4.835504    3.735482   222.448980   \n",
       "OH       5.163460  5.044162   3.000000    5.331663    4.162110   207.207207   \n",
       "OK       4.944679  4.677265   3.849462    4.689387    4.351313   227.419355   \n",
       "OR       5.066996  5.152299   3.509804    5.026832    4.018154   217.156863   \n",
       "PA       4.986539  4.981677   2.969697    5.367103    4.108846   206.565657   \n",
       "RI       5.210821  5.011306   3.383333    4.826565    3.967932   237.500000   \n",
       "SC       4.928440  5.018931   2.920354    5.293971    4.134787   211.946903   \n",
       "SD       4.881898  4.672391   3.303922    4.771719    4.025311   226.470588   \n",
       "TN       4.568365  4.699882   3.175258    4.782405    4.117136   243.298969   \n",
       "TX       4.950191  5.313499   2.775510    5.287397    4.441347   211.224490   \n",
       "UT       4.806180  5.118302   2.800000    4.880221    3.911295   229.473684   \n",
       "VA       5.112812  5.168118   3.242424    4.853063    3.882937   236.868687   \n",
       "VT       5.146631  5.243065   2.649485    5.233228    3.868113   229.896907   \n",
       "WA       4.957053  5.003781   3.138614    5.139974    3.955909   233.168317   \n",
       "WI       4.913250  4.847035   3.352941    4.888089    4.174260   222.941176   \n",
       "WV       5.115171  5.010519   2.903846    5.211086    3.706347   222.115385   \n",
       "WY       4.735221  4.623542   3.067961    4.750568    3.893587   223.786408   \n",
       "\n",
       "       Night Charge  Intl Mins  Intl Calls  Intl Charge  CustServ Calls  \n",
       "State                                                                    \n",
       "AK         5.025403   4.943673    5.152941     4.532984        5.458824  \n",
       "AL         5.072385   4.880843    5.540000     4.496259        5.630000  \n",
       "AR         4.951196   5.077197    5.790909     4.260148        5.545455  \n",
       "AZ         4.986324   5.026467    5.566667     4.476106        5.533333  \n",
       "CA         4.887794   5.000179    5.230769     4.603237        5.346154  \n",
       "CO         5.110500   5.156655    5.065934     4.399483        5.549451  \n",
       "CT         5.336580   4.866008    5.426966     4.137358        5.764045  \n",
       "DC         4.865576   4.946210    5.892857     4.236280        5.258929  \n",
       "DE         5.090062   5.132622    5.846154     3.942804        5.681319  \n",
       "FL         4.818345   5.025401    5.651685     4.273730        5.483146  \n",
       "GA         4.913348   4.971687    5.240964     4.677342        5.289157  \n",
       "HI         5.225388   4.828607    5.178947     4.484440        5.536842  \n",
       "IA         5.075894   5.138957    5.912621     4.560148        5.300971  \n",
       "ID         4.949757   4.966145    5.756757     4.525305        5.477477  \n",
       "IL         4.953186   5.119068    5.555556     4.093378        5.585859  \n",
       "IN         5.017363   4.918413    5.663158     4.059409        5.747368  \n",
       "KS         5.130991   5.108419    5.240506     4.399147        5.658228  \n",
       "KY         5.071912   4.921513    5.406593     4.450402        5.527473  \n",
       "LA         5.007023   5.016703    5.495050     4.199038        5.653465  \n",
       "MA         5.127425   4.919755    5.403846     3.944629        5.442308  \n",
       "MD         5.138016   4.929868    5.725664     4.230036        5.424779  \n",
       "ME         5.268970   4.801726    4.891892     4.257215        5.621622  \n",
       "MI         4.695889   5.010159    5.643564     4.723660        5.297030  \n",
       "MN         5.035417   5.024728    5.400000     4.010842        5.581818  \n",
       "MO         5.031372   4.996952    5.235849     4.492448        5.264151  \n",
       "MS         5.087056   4.816838    5.415094     4.268805        5.603774  \n",
       "MT         4.994179   5.017799    5.555556     4.148341        5.644444  \n",
       "NC         5.247216   5.194933    5.189474     4.389055        5.578947  \n",
       "ND         4.967053   5.012407    5.187500     4.349706        5.437500  \n",
       "NE         5.013538   5.068611    5.623853     4.225382        5.669725  \n",
       "NH         5.067868   4.877707    5.223404     4.356784        5.659574  \n",
       "NJ         4.852977   5.092074    5.435644     4.698062        5.514851  \n",
       "NM         4.874713   5.173338    5.710843     4.362226        5.518072  \n",
       "NV         4.920968   4.926316    5.505051     4.199254        5.303030  \n",
       "NY         5.147423   5.095103    5.346939     4.444986        5.653061  \n",
       "OH         5.247574   5.256097    5.504505     4.296225        5.486486  \n",
       "OK         4.654974   5.116418    5.698925     4.211648        5.225806  \n",
       "OR         5.039801   5.135647    5.519608     4.463148        5.362745  \n",
       "PA         5.242421   5.214963    5.535354     4.457418        5.383838  \n",
       "RI         4.986330   5.028246    5.608333     4.093434        5.558333  \n",
       "SC         5.275853   4.932718    5.327434     4.544350        5.336283  \n",
       "SD         4.809342   5.071374    5.558824     4.090043        5.421569  \n",
       "TN         4.673113   5.058045    5.402062     4.326439        5.505155  \n",
       "TX         5.022745   4.941994    5.500000     4.747551        5.438776  \n",
       "UT         5.097688   4.971623    5.536842     4.216135        5.821053  \n",
       "VA         4.838843   5.248788    5.484848     4.380164        5.565657  \n",
       "VT         5.350715   5.233362    5.412371     4.146650        6.051546  \n",
       "WA         4.945790   4.892931    5.396040     4.505011        5.544554  \n",
       "WI         4.694063   5.029966    5.447059     4.420356        5.482353  \n",
       "WV         5.221215   5.185997    5.336538     4.272644        5.711538  \n",
       "WY         5.109618   4.966825    5.417476     3.788134        5.805825  "
      ]
     },
     "execution_count": 20,
     "metadata": {},
     "output_type": "execute_result"
    }
   ],
   "source": [
    "df.groupby('State').mean()"
   ]
  },
  {
   "cell_type": "code",
   "execution_count": 21,
   "id": "e0d9676c",
   "metadata": {},
   "outputs": [],
   "source": [
    "#visualization"
   ]
  },
  {
   "cell_type": "code",
   "execution_count": 22,
   "id": "bcf6560b",
   "metadata": {},
   "outputs": [
    {
     "data": {
      "text/plain": [
       "Index(['State', 'Account Length', 'Area Code', 'Phone', 'Int'l Plan',\n",
       "       'VMail Plan', 'VMail Message', 'Day Mins', 'Day Calls', 'Day Charge',\n",
       "       'Eve Mins', 'Eve Calls', 'Eve Charge', 'Night Mins', 'Night Calls',\n",
       "       'Night Charge', 'Intl Mins', 'Intl Calls', 'Intl Charge',\n",
       "       'CustServ Calls', 'Churn?'],\n",
       "      dtype='object')"
      ]
     },
     "execution_count": 22,
     "metadata": {},
     "output_type": "execute_result"
    }
   ],
   "source": [
    "df.columns"
   ]
  },
  {
   "cell_type": "code",
   "execution_count": 23,
   "id": "380d8bd1",
   "metadata": {},
   "outputs": [],
   "source": [
    "df.columns=df.columns.str.strip()"
   ]
  },
  {
   "cell_type": "code",
   "execution_count": 24,
   "id": "7aabcad3",
   "metadata": {},
   "outputs": [],
   "source": [
    "df.columns=df.columns.str.replace(' ','_')"
   ]
  },
  {
   "cell_type": "code",
   "execution_count": 25,
   "id": "1fd0e37d",
   "metadata": {},
   "outputs": [
    {
     "data": {
      "text/plain": [
       "Index(['State', 'Account_Length', 'Area_Code', 'Phone', 'Int'l_Plan',\n",
       "       'VMail_Plan', 'VMail_Message', 'Day_Mins', 'Day_Calls', 'Day_Charge',\n",
       "       'Eve_Mins', 'Eve_Calls', 'Eve_Charge', 'Night_Mins', 'Night_Calls',\n",
       "       'Night_Charge', 'Intl_Mins', 'Intl_Calls', 'Intl_Charge',\n",
       "       'CustServ_Calls', 'Churn?'],\n",
       "      dtype='object')"
      ]
     },
     "execution_count": 25,
     "metadata": {},
     "output_type": "execute_result"
    }
   ],
   "source": [
    "df.columns"
   ]
  },
  {
   "cell_type": "code",
   "execution_count": 26,
   "id": "87dab892",
   "metadata": {},
   "outputs": [],
   "source": [
    "df.columns=df.columns.str.replace(\"Int'l\",'Intl')\n",
    "df.rename(columns={'Churn?':'Churn'},inplace=True)"
   ]
  },
  {
   "cell_type": "code",
   "execution_count": 27,
   "id": "f7e15be4",
   "metadata": {},
   "outputs": [
    {
     "data": {
      "text/plain": [
       "21"
      ]
     },
     "execution_count": 27,
     "metadata": {},
     "output_type": "execute_result"
    }
   ],
   "source": [
    "df.shape[1]"
   ]
  },
  {
   "cell_type": "code",
   "execution_count": 28,
   "id": "24f83da9",
   "metadata": {},
   "outputs": [],
   "source": [
    "df_num = df.select_dtypes(exclude='object')\n",
    "df_obj = df.select_dtypes(include='object')"
   ]
  },
  {
   "cell_type": "code",
   "execution_count": 29,
   "id": "97eb4e0f",
   "metadata": {},
   "outputs": [
    {
     "data": {
      "text/plain": [
       "Index(['Account_Length', 'Area_Code', 'VMail_Message', 'Day_Mins', 'Day_Calls',\n",
       "       'Day_Charge', 'Eve_Mins', 'Eve_Calls', 'Eve_Charge', 'Night_Mins',\n",
       "       'Night_Calls', 'Night_Charge', 'Intl_Mins', 'Intl_Calls', 'Intl_Charge',\n",
       "       'CustServ_Calls'],\n",
       "      dtype='object')"
      ]
     },
     "execution_count": 29,
     "metadata": {},
     "output_type": "execute_result"
    }
   ],
   "source": [
    "df_num.columns"
   ]
  },
  {
   "cell_type": "code",
   "execution_count": 30,
   "id": "6177c24f",
   "metadata": {},
   "outputs": [
    {
     "data": {
      "text/plain": [
       "Index(['State', 'Intl_Plan', 'VMail_Plan', 'Churn'], dtype='object')"
      ]
     },
     "execution_count": 30,
     "metadata": {},
     "output_type": "execute_result"
    }
   ],
   "source": [
    "df_obj.columns\n",
    "df_obj.drop(columns=['Phone'],inplace=True)\n",
    "df_obj.columns"
   ]
  },
  {
   "cell_type": "code",
   "execution_count": 31,
   "id": "af8dc081",
   "metadata": {},
   "outputs": [
    {
     "data": {
      "image/png": "[encoded data removed]",
      "text/plain": [
       "<Figure size 1080x432 with 3 Axes>"
      ]
     },
     "metadata": {
      "needs_background": "light"
     },
     "output_type": "display_data"
    }
   ],
   "source": [
    "fig, axes = plt.subplots(1, 3,figsize=(15,6))\n",
    "sns.countplot(data=df_obj,ax=axes[0],x=df['Churn'])\n",
    "sns.countplot(data=df_obj,ax=axes[1],x=df['Intl_Plan'])\n",
    "sns.countplot(data=df_obj,ax=axes[2],x=df['VMail_Plan'])\n",
    "plt.tight_layout()"
   ]
  },
  {
   "cell_type": "code",
   "execution_count": 32,
   "id": "08824d72",
   "metadata": {},
   "outputs": [
    {
     "name": "stdout",
     "output_type": "stream",
     "text": [
      "RI    120\n",
      "SC    113\n",
      "MD    113\n",
      "DC    112\n",
      "ID    111\n",
      "OH    111\n",
      "MN    110\n",
      "AR    110\n",
      "NE    109\n",
      "MS    106\n",
      "MO    106\n",
      "WV    104\n",
      "CA    104\n",
      "MA    104\n",
      "IA    103\n",
      "WY    103\n",
      "SD    102\n",
      "OR    102\n",
      "NJ    101\n",
      "LA    101\n",
      "WA    101\n",
      "MI    101\n",
      "AL    100\n",
      "NV     99\n",
      "PA     99\n",
      "IL     99\n",
      "VA     99\n",
      "NY     98\n",
      "TX     98\n",
      "VT     97\n",
      "TN     97\n",
      "IN     95\n",
      "NC     95\n",
      "HI     95\n",
      "UT     95\n",
      "NH     94\n",
      "OK     93\n",
      "CO     91\n",
      "KY     91\n",
      "DE     91\n",
      "MT     90\n",
      "AZ     90\n",
      "CT     89\n",
      "FL     89\n",
      "AK     85\n",
      "WI     85\n",
      "GA     83\n",
      "NM     83\n",
      "ND     80\n",
      "KS     79\n",
      "ME     74\n",
      "Name: State, dtype: int64\n"
     ]
    },
    {
     "data": {
      "image/png": "[encoded data removed]",
      "text/plain": [
       "<Figure size 2160x720 with 1 Axes>"
      ]
     },
     "metadata": {
      "needs_background": "light"
     },
     "output_type": "display_data"
    }
   ],
   "source": [
    "plt.figure(figsize=(30,10))\n",
    "sns.countplot(data=df,x=\"State\");\n",
    "print(df.State.value_counts())"
   ]
  },
  {
   "cell_type": "code",
   "execution_count": 33,
   "id": "26a49f49",
   "metadata": {},
   "outputs": [
    {
     "data": {
      "text/plain": [
       "16"
      ]
     },
     "execution_count": 33,
     "metadata": {},
     "output_type": "execute_result"
    }
   ],
   "source": [
    "df_num.shape[1]"
   ]
  },
  {
   "cell_type": "code",
   "execution_count": 34,
   "id": "fd948751",
   "metadata": {},
   "outputs": [
    {
     "data": {
      "image/png": "[encoded data removed]",
      "text/plain": [
       "<Figure size 1080x576 with 16 Axes>"
      ]
     },
     "metadata": {
      "needs_background": "light"
     },
     "output_type": "display_data"
    }
   ],
   "source": [
    "# Create a 3x6 subplot grid\n",
    "fig, axes = plt.subplots(4, 4, figsize=(15, 8))\n",
    "\n",
    "# Flatten the axes array for easier iteration\n",
    "axes = axes.flatten()\n",
    "\n",
    "# Iterate over each column in df_num\n",
    "for i, column in enumerate(df_num.columns):\n",
    "    # Select the current axis\n",
    "    ax = axes[i]\n",
    "    \n",
    "    # Plot the histogram using seaborn\n",
    "    sns.histplot(data=df_num, x=column, kde=True, ax=ax)\n",
    "    \n",
    "    # Set the title for the subplot\n",
    "    ax.set_title(column)\n",
    "    \n",
    "# Adjust spacing between subplots\n",
    "plt.tight_layout()\n",
    "\n",
    "# Show the plot\n",
    "plt.show()"
   ]
  },
  {
   "cell_type": "code",
   "execution_count": 35,
   "id": "fadb1124",
   "metadata": {},
   "outputs": [
    {
     "data": {
      "image/png": "[encoded data removed]",
      "text/plain": [
       "<Figure size 1296x720 with 16 Axes>"
      ]
     },
     "metadata": {
      "needs_background": "light"
     },
     "output_type": "display_data"
    }
   ],
   "source": [
    "fig, axes = plt.subplots(4, 4, figsize=(18, 10))\n",
    "axes=axes.flatten()\n",
    "for i,column in enumerate(df_num.columns):\n",
    "    ax=axes[i]\n",
    "    sns.histplot(data=df_num,x=column,ax=ax)\n",
    "    plt.tight_layout()"
   ]
  },
  {
   "cell_type": "code",
   "execution_count": 36,
   "id": "b0674f4d",
   "metadata": {},
   "outputs": [
    {
     "data": {
      "image/png": "[encoded data removed]",
      "text/plain": [
       "<Figure size 1080x576 with 16 Axes>"
      ]
     },
     "metadata": {
      "needs_background": "light"
     },
     "output_type": "display_data"
    }
   ],
   "source": [
    "fig,axes=plt.subplots(4,4,figsize=(15,8))\n",
    "axes=axes.flatten()\n",
    "for i,column in enumerate(df_num.columns):\n",
    "    ax=axes[i]\n",
    "    sns.boxplot(data=df_num,ax=ax,x=column)\n",
    "    plt.tight_layout()"
   ]
  },
  {
   "cell_type": "code",
   "execution_count": 37,
   "id": "0522664c",
   "metadata": {},
   "outputs": [
    {
     "data": {
      "image/png": "[encoded data removed]",
      "text/plain": [
       "<Figure size 1080x720 with 2 Axes>"
      ]
     },
     "metadata": {
      "needs_background": "light"
     },
     "output_type": "display_data"
    }
   ],
   "source": [
    "plt.figure(figsize=(15,10))\n",
    "sns.heatmap(df.corr(),annot=True,mask=np.triu(df.corr(),+1));"
   ]
  },
  {
   "cell_type": "markdown",
   "id": "d40e9594",
   "metadata": {},
   "source": [
    "# Not treating outlier as they are not by random chance "
   ]
  },
  {
   "cell_type": "markdown",
   "id": "3731986d",
   "metadata": {},
   "source": [
    "# Encoding"
   ]
  },
  {
   "cell_type": "code",
   "execution_count": 38,
   "id": "f830b59c",
   "metadata": {},
   "outputs": [],
   "source": [
    "df.head()\n",
    "df_x=df.drop(columns=['State','Phone','Churn'])"
   ]
  },
  {
   "cell_type": "code",
   "execution_count": 39,
   "id": "36ab5d28",
   "metadata": {},
   "outputs": [],
   "source": [
    "df_x=pd.get_dummies(data=df_x,drop_first=True)\n"
   ]
  },
  {
   "cell_type": "markdown",
   "id": "6a0ee5a4",
   "metadata": {},
   "source": [
    "# Building Classification models "
   ]
  },
  {
   "cell_type": "code",
   "execution_count": 40,
   "id": "7cbd9b13",
   "metadata": {},
   "outputs": [],
   "source": [
    "from sklearn.model_selection import train_test_split"
   ]
  },
  {
   "cell_type": "code",
   "execution_count": 41,
   "id": "6676dd1c",
   "metadata": {},
   "outputs": [],
   "source": [
    "y=df['Churn']"
   ]
  },
  {
   "cell_type": "code",
   "execution_count": 42,
   "id": "5adc9220",
   "metadata": {},
   "outputs": [],
   "source": [
    "x_train,x_test,y_train,y_test = train_test_split(df_x,y,test_size=0.30)"
   ]
  },
  {
   "cell_type": "code",
   "execution_count": 43,
   "id": "dae3e346",
   "metadata": {},
   "outputs": [
    {
     "name": "stdout",
     "output_type": "stream",
     "text": [
      "x train : 3500 x test : 1500\n",
      "y train : 3500 y test : 1500\n"
     ]
    }
   ],
   "source": [
    "print('x train :',len(x_train),'x test :',len(x_test))\n",
    "print('y train :',len(y_train),'y test :',len(y_test))"
   ]
  },
  {
   "cell_type": "markdown",
   "id": "f4c52b76",
   "metadata": {},
   "source": [
    "# Scaling"
   ]
  },
  {
   "cell_type": "code",
   "execution_count": 44,
   "id": "8636ce10",
   "metadata": {},
   "outputs": [],
   "source": [
    "from sklearn.preprocessing import StandardScaler"
   ]
  },
  {
   "cell_type": "code",
   "execution_count": 45,
   "id": "503c7c7b",
   "metadata": {
    "scrolled": true
   },
   "outputs": [],
   "source": [
    "sc=StandardScaler()\n",
    "xss_train=sc.fit_transform(x_train)\n",
    "xss_test=sc.transform(x_test)\n"
   ]
  },
  {
   "cell_type": "code",
   "execution_count": 46,
   "id": "fde43651",
   "metadata": {},
   "outputs": [],
   "source": [
    "col=x_train.columns.to_list()\n",
    "xs_train=pd.DataFrame(xss_train,columns=col)\n",
    "xs_test=pd.DataFrame(xss_test,columns=col)"
   ]
  },
  {
   "cell_type": "markdown",
   "id": "e6d53019",
   "metadata": {},
   "source": [
    "# Logistic Regression "
   ]
  },
  {
   "cell_type": "code",
   "execution_count": 47,
   "id": "2762c3af",
   "metadata": {},
   "outputs": [],
   "source": [
    "from sklearn.linear_model import LogisticRegression"
   ]
  },
  {
   "cell_type": "code",
   "execution_count": 48,
   "id": "78b053d2",
   "metadata": {},
   "outputs": [
    {
     "data": {
      "text/plain": [
       "LogisticRegression()"
      ]
     },
     "execution_count": 48,
     "metadata": {},
     "output_type": "execute_result"
    }
   ],
   "source": [
    "lr = LogisticRegression()\n",
    "lr.fit(xs_train,y_train)"
   ]
  },
  {
   "cell_type": "code",
   "execution_count": 49,
   "id": "55bee78f",
   "metadata": {},
   "outputs": [],
   "source": [
    "lr_train_predict=lr.predict(xs_train)"
   ]
  },
  {
   "cell_type": "code",
   "execution_count": 50,
   "id": "937c1b97",
   "metadata": {},
   "outputs": [],
   "source": [
    "lr_test_predict=lr.predict(xs_test)"
   ]
  },
  {
   "cell_type": "code",
   "execution_count": 51,
   "id": "d8caed55",
   "metadata": {},
   "outputs": [],
   "source": [
    "from sklearn.metrics import classification_report,confusion_matrix,accuracy_score"
   ]
  },
  {
   "cell_type": "code",
   "execution_count": 52,
   "id": "6ca64eb9",
   "metadata": {},
   "outputs": [
    {
     "name": "stdout",
     "output_type": "stream",
     "text": [
      "              precision    recall  f1-score   support\n",
      "\n",
      "      False.       0.89      0.86      0.88      1743\n",
      "       True.       0.87      0.89      0.88      1757\n",
      "\n",
      "    accuracy                           0.88      3500\n",
      "   macro avg       0.88      0.88      0.88      3500\n",
      "weighted avg       0.88      0.88      0.88      3500\n",
      "\n"
     ]
    }
   ],
   "source": [
    "print(classification_report(y_train,lr_train_predict))"
   ]
  },
  {
   "cell_type": "code",
   "execution_count": 53,
   "id": "153a29d2",
   "metadata": {},
   "outputs": [
    {
     "data": {
      "image/png": "[encoded data removed]",
      "text/plain": [
       "<Figure size 432x288 with 2 Axes>"
      ]
     },
     "metadata": {
      "needs_background": "light"
     },
     "output_type": "display_data"
    }
   ],
   "source": [
    "sns.heatmap(confusion_matrix(y_train,lr_train_predict),annot=True,fmt='2g');"
   ]
  },
  {
   "cell_type": "code",
   "execution_count": 54,
   "id": "6ff2112f",
   "metadata": {},
   "outputs": [
    {
     "name": "stdout",
     "output_type": "stream",
     "text": [
      "              precision    recall  f1-score   support\n",
      "\n",
      "      False.       0.89      0.86      0.87       759\n",
      "       True.       0.86      0.89      0.88       741\n",
      "\n",
      "    accuracy                           0.88      1500\n",
      "   macro avg       0.88      0.88      0.88      1500\n",
      "weighted avg       0.88      0.88      0.88      1500\n",
      "\n"
     ]
    }
   ],
   "source": [
    "print(classification_report(y_test,lr_test_predict))"
   ]
  },
  {
   "cell_type": "code",
   "execution_count": 55,
   "id": "3ca9b15e",
   "metadata": {},
   "outputs": [
    {
     "data": {
      "image/png": "[encoded data removed]",
      "text/plain": [
       "<Figure size 432x288 with 2 Axes>"
      ]
     },
     "metadata": {
      "needs_background": "light"
     },
     "output_type": "display_data"
    }
   ],
   "source": [
    "sns.heatmap(confusion_matrix(y_test,lr_test_predict),annot=True,fmt='2g');"
   ]
  },
  {
   "cell_type": "code",
   "execution_count": 56,
   "id": "c5d46b32",
   "metadata": {},
   "outputs": [],
   "source": [
    "from sklearn.metrics import roc_auc_score,roc_curve"
   ]
  },
  {
   "cell_type": "code",
   "execution_count": 57,
   "id": "074e5e3b",
   "metadata": {},
   "outputs": [],
   "source": [
    "prob=lr.predict_proba(x_train)"
   ]
  },
  {
   "cell_type": "code",
   "execution_count": 58,
   "id": "147dad17",
   "metadata": {},
   "outputs": [],
   "source": [
    "prob=prob[:,1]\n",
    "train_auc_roc = roc_auc_score(y_train,prob)\n",
    "fpr,tpr,thres = roc_curve(y_train,prob,pos_label='True.')"
   ]
  },
  {
   "cell_type": "code",
   "execution_count": 59,
   "id": "05d87abf",
   "metadata": {},
   "outputs": [
    {
     "name": "stdout",
     "output_type": "stream",
     "text": [
      "0.7581802941500126\n"
     ]
    },
    {
     "data": {
      "image/png": "[encoded data removed]",
      "text/plain": [
       "<Figure size 432x288 with 1 Axes>"
      ]
     },
     "metadata": {
      "needs_background": "light"
     },
     "output_type": "display_data"
    }
   ],
   "source": [
    "print(train_auc_roc)\n",
    "plt.plot([0, 1], [0, 1], linestyle='--')\n",
    "plt.plot(fpr,tpr,marker='.')\n",
    "plt.title('logistic regression train roc')\n",
    "plt.show()"
   ]
  },
  {
   "cell_type": "code",
   "execution_count": 60,
   "id": "47b60784",
   "metadata": {},
   "outputs": [],
   "source": [
    "probt=lr.predict_proba(x_test)\n",
    "probt=probt[:,1]\n",
    "test_auc=roc_auc_score(y_test,probt)\n",
    "fpr,tpr,thres=roc_curve(y_train,prob,pos_label=\"True.\")"
   ]
  },
  {
   "cell_type": "code",
   "execution_count": 61,
   "id": "ae4b77e4",
   "metadata": {},
   "outputs": [
    {
     "name": "stdout",
     "output_type": "stream",
     "text": [
      "0.7478890293535603\n"
     ]
    },
    {
     "data": {
      "image/png": "[encoded data removed]",
      "text/plain": [
       "<Figure size 432x288 with 1 Axes>"
      ]
     },
     "metadata": {
      "needs_background": "light"
     },
     "output_type": "display_data"
    }
   ],
   "source": [
    "print(test_auc)\n",
    "plt.plot([0,1],[0,1],linestyle='--')\n",
    "plt.plot(fpr,tpr,marker='.')\n",
    "plt.title('logistic regression test roc')\n",
    "plt.show()"
   ]
  },
  {
   "cell_type": "code",
   "execution_count": 62,
   "id": "9636ca55",
   "metadata": {},
   "outputs": [
    {
     "name": "stdout",
     "output_type": "stream",
     "text": [
      "LR Train accuracy : 0.8777142857142857 LR Test Accuracy : 0.8753333333333333\n",
      "LR Train AUC : 0.7581802941500126 LR Test AUC : 0.7478890293535603\n"
     ]
    }
   ],
   "source": [
    "print('LR Train accuracy :',accuracy_score(y_train,lr_train_predict),'LR Test Accuracy :', accuracy_score(y_test,lr_test_predict))\n",
    "print('LR Train AUC :' ,roc_auc_score(y_train,prob),'LR Test AUC :',roc_auc_score(y_test,probt))"
   ]
  },
  {
   "cell_type": "markdown",
   "id": "4af57f06",
   "metadata": {},
   "source": [
    "# Linear Discriminant Analysis"
   ]
  },
  {
   "cell_type": "code",
   "execution_count": 63,
   "id": "c5e77cfa",
   "metadata": {},
   "outputs": [],
   "source": [
    "from sklearn.discriminant_analysis import LinearDiscriminantAnalysis"
   ]
  },
  {
   "cell_type": "code",
   "execution_count": 64,
   "id": "b5ddcf8f",
   "metadata": {},
   "outputs": [],
   "source": [
    "lda=LinearDiscriminantAnalysis()"
   ]
  },
  {
   "cell_type": "code",
   "execution_count": 65,
   "id": "8e340452",
   "metadata": {},
   "outputs": [
    {
     "data": {
      "text/plain": [
       "LinearDiscriminantAnalysis()"
      ]
     },
     "execution_count": 65,
     "metadata": {},
     "output_type": "execute_result"
    }
   ],
   "source": [
    "lda.fit(x_train,y_train)"
   ]
  },
  {
   "cell_type": "code",
   "execution_count": 66,
   "id": "f8deb479",
   "metadata": {},
   "outputs": [],
   "source": [
    "lda_train_pred = lda.predict(x_train)\n",
    "lda_test_pred = lda.predict(x_test)"
   ]
  },
  {
   "cell_type": "code",
   "execution_count": 67,
   "id": "d3a5f337",
   "metadata": {},
   "outputs": [],
   "source": [
    "from sklearn.metrics import classification_report , confusion_matrix"
   ]
  },
  {
   "cell_type": "code",
   "execution_count": 68,
   "id": "0f22980a",
   "metadata": {},
   "outputs": [
    {
     "name": "stdout",
     "output_type": "stream",
     "text": [
      "              precision    recall  f1-score   support\n",
      "\n",
      "      False.       0.90      0.84      0.87      1743\n",
      "       True.       0.85      0.91      0.88      1757\n",
      "\n",
      "    accuracy                           0.88      3500\n",
      "   macro avg       0.88      0.88      0.87      3500\n",
      "weighted avg       0.88      0.88      0.88      3500\n",
      "\n"
     ]
    }
   ],
   "source": [
    "print(classification_report(y_train,lda_train_pred))"
   ]
  },
  {
   "cell_type": "code",
   "execution_count": 69,
   "id": "7be6ab79",
   "metadata": {},
   "outputs": [
    {
     "data": {
      "image/png": "[encoded data removed]",
      "text/plain": [
       "<Figure size 432x288 with 2 Axes>"
      ]
     },
     "metadata": {
      "needs_background": "light"
     },
     "output_type": "display_data"
    }
   ],
   "source": [
    "sns.heatmap(confusion_matrix(y_train,lda_train_pred),annot=True,fmt='2g');"
   ]
  },
  {
   "cell_type": "code",
   "execution_count": 70,
   "id": "237425f8",
   "metadata": {},
   "outputs": [],
   "source": [
    "probl=lda.predict_proba(x_train)\n",
    "probl=probl[:,1]"
   ]
  },
  {
   "cell_type": "code",
   "execution_count": 71,
   "id": "2be42afa",
   "metadata": {},
   "outputs": [
    {
     "data": {
      "text/plain": [
       "0.9453787178962212"
      ]
     },
     "execution_count": 71,
     "metadata": {},
     "output_type": "execute_result"
    }
   ],
   "source": [
    "lda_train_auc=roc_auc_score(y_train,probl)\n",
    "lda_train_auc"
   ]
  },
  {
   "cell_type": "code",
   "execution_count": 72,
   "id": "5e673dec",
   "metadata": {},
   "outputs": [],
   "source": [
    "fpr,tpr,thres=roc_curve(y_train,probl,pos_label='True.')"
   ]
  },
  {
   "cell_type": "code",
   "execution_count": 73,
   "id": "978f954b",
   "metadata": {},
   "outputs": [
    {
     "data": {
      "image/png": "[encoded data removed]",
      "text/plain": [
       "<Figure size 432x288 with 1 Axes>"
      ]
     },
     "metadata": {
      "needs_background": "light"
     },
     "output_type": "display_data"
    }
   ],
   "source": [
    "plt.plot([0,1],[0,1],linestyle='--')\n",
    "plt.plot(fpr,tpr,marker='.')\n",
    "plt.title('Roc for LDA Train');"
   ]
  },
  {
   "cell_type": "code",
   "execution_count": 74,
   "id": "80956ffa",
   "metadata": {},
   "outputs": [],
   "source": [
    "lda_test_predict = lda.predict(x_test)"
   ]
  },
  {
   "cell_type": "code",
   "execution_count": 75,
   "id": "ab65860f",
   "metadata": {},
   "outputs": [
    {
     "name": "stdout",
     "output_type": "stream",
     "text": [
      "              precision    recall  f1-score   support\n",
      "\n",
      "      False.       0.90      0.84      0.87       759\n",
      "       True.       0.84      0.90      0.87       741\n",
      "\n",
      "    accuracy                           0.87      1500\n",
      "   macro avg       0.87      0.87      0.87      1500\n",
      "weighted avg       0.87      0.87      0.87      1500\n",
      "\n"
     ]
    }
   ],
   "source": [
    "print(classification_report(y_test,lda_test_predict))"
   ]
  },
  {
   "cell_type": "code",
   "execution_count": 76,
   "id": "e55c34ae",
   "metadata": {},
   "outputs": [
    {
     "data": {
      "image/png": "[encoded data removed]",
      "text/plain": [
       "<Figure size 432x288 with 2 Axes>"
      ]
     },
     "metadata": {
      "needs_background": "light"
     },
     "output_type": "display_data"
    }
   ],
   "source": [
    "sns.heatmap(confusion_matrix(y_test,lda_test_pred),annot=True,fmt='2g');"
   ]
  },
  {
   "cell_type": "code",
   "execution_count": 77,
   "id": "068fe280",
   "metadata": {},
   "outputs": [],
   "source": [
    "problt = lda.predict_proba(x_test)\n",
    "problt=problt[:,1]\n",
    "lda_test_auc=roc_auc_score(y_test,problt)\n",
    "fpr,tpr,thres=roc_curve(y_test,problt,pos_label='True.')"
   ]
  },
  {
   "cell_type": "code",
   "execution_count": 78,
   "id": "6b3f9e7e",
   "metadata": {},
   "outputs": [
    {
     "data": {
      "image/png": "[encoded data removed]",
      "text/plain": [
       "<Figure size 432x288 with 1 Axes>"
      ]
     },
     "metadata": {
      "needs_background": "light"
     },
     "output_type": "display_data"
    }
   ],
   "source": [
    "plt.plot([0,1],[0,1],linestyle='--')\n",
    "plt.plot(fpr,tpr,marker='.')\n",
    "plt.title('LDA Test Roc');"
   ]
  },
  {
   "cell_type": "code",
   "execution_count": 79,
   "id": "0fbe6f1c",
   "metadata": {},
   "outputs": [
    {
     "name": "stdout",
     "output_type": "stream",
     "text": [
      "LDA Train Accuracy :  0.8751428571428571 LDA Test Accuracy : 0.87\n",
      "LDA Train AUC : 0.9453787178962212 LDA Test AUC : 0.9417605024012348\n"
     ]
    }
   ],
   "source": [
    "print ('LDA Train Accuracy : ',accuracy_score(y_train,lda_train_pred) , 'LDA Test Accuracy :', accuracy_score(y_test,lda_test_predict))\n",
    "print('LDA Train AUC :',roc_auc_score(y_train,probl),'LDA Test AUC :',roc_auc_score(y_test,problt))"
   ]
  },
  {
   "cell_type": "markdown",
   "id": "cb0e4f51",
   "metadata": {},
   "source": [
    "# K nearest neibhours classifier (KNN) "
   ]
  },
  {
   "cell_type": "code",
   "execution_count": 80,
   "id": "5b236936",
   "metadata": {},
   "outputs": [],
   "source": [
    "from sklearn.neighbors import KNeighborsClassifier "
   ]
  },
  {
   "cell_type": "code",
   "execution_count": 81,
   "id": "cb0ffb23",
   "metadata": {},
   "outputs": [],
   "source": [
    "knn=KNeighborsClassifier(n_neighbors=5)"
   ]
  },
  {
   "cell_type": "code",
   "execution_count": 82,
   "id": "9ea3ed8b",
   "metadata": {},
   "outputs": [
    {
     "data": {
      "text/plain": [
       "KNeighborsClassifier()"
      ]
     },
     "execution_count": 82,
     "metadata": {},
     "output_type": "execute_result"
    }
   ],
   "source": [
    "knn.fit(xss_train,y_train)"
   ]
  },
  {
   "cell_type": "code",
   "execution_count": 83,
   "id": "865a9912",
   "metadata": {},
   "outputs": [],
   "source": [
    "knn_train_pred=knn.predict(xss_train)"
   ]
  },
  {
   "cell_type": "code",
   "execution_count": 84,
   "id": "e81d0a09",
   "metadata": {},
   "outputs": [],
   "source": [
    "knn_test_pred=knn.predict(xss_test)"
   ]
  },
  {
   "cell_type": "code",
   "execution_count": 85,
   "id": "4c5deb57",
   "metadata": {},
   "outputs": [
    {
     "name": "stdout",
     "output_type": "stream",
     "text": [
      "              precision    recall  f1-score   support\n",
      "\n",
      "      False.       0.96      0.92      0.94      1743\n",
      "       True.       0.93      0.96      0.94      1757\n",
      "\n",
      "    accuracy                           0.94      3500\n",
      "   macro avg       0.94      0.94      0.94      3500\n",
      "weighted avg       0.94      0.94      0.94      3500\n",
      "\n"
     ]
    }
   ],
   "source": [
    "print(classification_report(y_train,knn_train_pred))"
   ]
  },
  {
   "cell_type": "code",
   "execution_count": 86,
   "id": "4dc2f517",
   "metadata": {},
   "outputs": [
    {
     "data": {
      "image/png": "[encoded data removed]",
      "text/plain": [
       "<Figure size 432x288 with 2 Axes>"
      ]
     },
     "metadata": {
      "needs_background": "light"
     },
     "output_type": "display_data"
    }
   ],
   "source": [
    "sns.heatmap(confusion_matrix(y_test,knn_test_pred),annot = True,fmt='2g');"
   ]
  },
  {
   "cell_type": "code",
   "execution_count": 87,
   "id": "13fdb943",
   "metadata": {},
   "outputs": [
    {
     "name": "stdout",
     "output_type": "stream",
     "text": [
      "              precision    recall  f1-score   support\n",
      "\n",
      "      False.       0.93      0.89      0.91       759\n",
      "       True.       0.89      0.94      0.91       741\n",
      "\n",
      "    accuracy                           0.91      1500\n",
      "   macro avg       0.91      0.91      0.91      1500\n",
      "weighted avg       0.91      0.91      0.91      1500\n",
      "\n"
     ]
    }
   ],
   "source": [
    "print(classification_report(y_test,knn_test_pred))"
   ]
  },
  {
   "cell_type": "code",
   "execution_count": 88,
   "id": "12eeae03",
   "metadata": {},
   "outputs": [
    {
     "data": {
      "image/png": "[encoded data removed]",
      "text/plain": [
       "<Figure size 432x288 with 2 Axes>"
      ]
     },
     "metadata": {
      "needs_background": "light"
     },
     "output_type": "display_data"
    }
   ],
   "source": [
    "sns.heatmap(confusion_matrix(y_test,knn_test_pred),annot=True,fmt='2g');"
   ]
  },
  {
   "cell_type": "code",
   "execution_count": 89,
   "id": "c3505bdd",
   "metadata": {},
   "outputs": [],
   "source": [
    "proba=knn.predict_proba(xss_train)\n",
    "proba=proba[:,1]"
   ]
  },
  {
   "cell_type": "code",
   "execution_count": 90,
   "id": "e1ba9e69",
   "metadata": {},
   "outputs": [
    {
     "data": {
      "image/png": "[encoded data removed]",
      "text/plain": [
       "<Figure size 432x288 with 1 Axes>"
      ]
     },
     "metadata": {
      "needs_background": "light"
     },
     "output_type": "display_data"
    }
   ],
   "source": [
    "knn_auc=roc_auc_score(y_train,proba)\n",
    "fpr,tpr,thres=roc_curve(y_train,proba,pos_label=\"True.\")\n",
    "plt.plot([0,1],[0,1],linestyle='--')\n",
    "plt.plot(fpr,tpr,marker='.')\n",
    "plt.title('KNN Train Roc');"
   ]
  },
  {
   "cell_type": "code",
   "execution_count": 91,
   "id": "54fd95c9",
   "metadata": {},
   "outputs": [],
   "source": [
    "probat = knn.predict_proba(xss_test)\n",
    "probat = probat[0:1]"
   ]
  },
  {
   "cell_type": "code",
   "execution_count": 92,
   "id": "97654a06",
   "metadata": {},
   "outputs": [
    {
     "data": {
      "image/png": "[encoded data removed]",
      "text/plain": [
       "<Figure size 432x288 with 1 Axes>"
      ]
     },
     "metadata": {
      "needs_background": "light"
     },
     "output_type": "display_data"
    }
   ],
   "source": [
    "knn_test_auc=roc_auc_score(y_test,probt)\n",
    "fpr,tpr,thres =roc_curve(y_test,probt,pos_label='True.')\n",
    "plt.plot([0,1],[0,1],linestyle='--')\n",
    "plt.plot(fpr,tpr,marker='.')\n",
    "plt.title(\"KNN Test Roc\");"
   ]
  },
  {
   "cell_type": "code",
   "execution_count": 93,
   "id": "f93165a0",
   "metadata": {},
   "outputs": [
    {
     "name": "stdout",
     "output_type": "stream",
     "text": [
      "KNN Train Accuracy : 0.9405714285714286 KNN Test Accuracy : 0.912\n",
      "KNN train AUC : 0.9876224958374844 KNN Test AUC : 0.7478890293535603\n"
     ]
    }
   ],
   "source": [
    "print('KNN Train Accuracy :',accuracy_score(y_train,knn_train_pred), 'KNN Test Accuracy :',accuracy_score(y_test,knn_test_pred))\n",
    "print('KNN train AUC :',knn_auc , 'KNN Test AUC :' , knn_test_auc)"
   ]
  },
  {
   "cell_type": "markdown",
   "id": "81e2241e",
   "metadata": {},
   "source": [
    "# Naive Bayes "
   ]
  },
  {
   "cell_type": "code",
   "execution_count": 94,
   "id": "c0c42503",
   "metadata": {},
   "outputs": [],
   "source": [
    "from sklearn.naive_bayes import GaussianNB"
   ]
  },
  {
   "cell_type": "code",
   "execution_count": 95,
   "id": "8a4d5f8c",
   "metadata": {},
   "outputs": [],
   "source": [
    "nb=GaussianNB()"
   ]
  },
  {
   "cell_type": "code",
   "execution_count": 96,
   "id": "2fcf5fad",
   "metadata": {},
   "outputs": [
    {
     "data": {
      "text/plain": [
       "GaussianNB()"
      ]
     },
     "execution_count": 96,
     "metadata": {},
     "output_type": "execute_result"
    }
   ],
   "source": [
    "nb.fit(x_train,y_train)"
   ]
  },
  {
   "cell_type": "code",
   "execution_count": 97,
   "id": "6ae365bb",
   "metadata": {},
   "outputs": [],
   "source": [
    "nb_train_pred=nb.predict(x_train)\n",
    "nb_test_pred=nb.predict(x_test)"
   ]
  },
  {
   "cell_type": "code",
   "execution_count": 98,
   "id": "d786676d",
   "metadata": {},
   "outputs": [
    {
     "name": "stdout",
     "output_type": "stream",
     "text": [
      "              precision    recall  f1-score   support\n",
      "\n",
      "      False.       0.85      0.83      0.84      1743\n",
      "       True.       0.84      0.85      0.84      1757\n",
      "\n",
      "    accuracy                           0.84      3500\n",
      "   macro avg       0.84      0.84      0.84      3500\n",
      "weighted avg       0.84      0.84      0.84      3500\n",
      "\n"
     ]
    }
   ],
   "source": [
    "print(classification_report(y_train,nb_train_pred))"
   ]
  },
  {
   "cell_type": "code",
   "execution_count": 99,
   "id": "a88d229f",
   "metadata": {},
   "outputs": [
    {
     "data": {
      "image/png": "[encoded data removed]",
      "text/plain": [
       "<Figure size 432x288 with 2 Axes>"
      ]
     },
     "metadata": {
      "needs_background": "light"
     },
     "output_type": "display_data"
    }
   ],
   "source": [
    "sns.heatmap(confusion_matrix(y_train,nb_train_pred),annot=True,fmt='2g');"
   ]
  },
  {
   "cell_type": "code",
   "execution_count": 100,
   "id": "d748dd96",
   "metadata": {},
   "outputs": [
    {
     "name": "stdout",
     "output_type": "stream",
     "text": [
      "              precision    recall  f1-score   support\n",
      "\n",
      "      False.       0.86      0.84      0.85       759\n",
      "       True.       0.84      0.86      0.85       741\n",
      "\n",
      "    accuracy                           0.85      1500\n",
      "   macro avg       0.85      0.85      0.85      1500\n",
      "weighted avg       0.85      0.85      0.85      1500\n",
      "\n"
     ]
    }
   ],
   "source": [
    "print(classification_report(y_test,nb_test_pred))"
   ]
  },
  {
   "cell_type": "code",
   "execution_count": 101,
   "id": "29f8b56e",
   "metadata": {},
   "outputs": [
    {
     "data": {
      "image/png": "[encoded data removed]",
      "text/plain": [
       "<Figure size 432x288 with 2 Axes>"
      ]
     },
     "metadata": {
      "needs_background": "light"
     },
     "output_type": "display_data"
    }
   ],
   "source": [
    "sns.heatmap(confusion_matrix(y_test,nb_test_pred),annot=True,fmt='2g');"
   ]
  },
  {
   "cell_type": "code",
   "execution_count": 102,
   "id": "0e1d745d",
   "metadata": {},
   "outputs": [],
   "source": [
    "probab = nb.predict_proba(x_train)\n",
    "probab=probab[:,1]"
   ]
  },
  {
   "cell_type": "code",
   "execution_count": 103,
   "id": "ab654336",
   "metadata": {},
   "outputs": [
    {
     "data": {
      "image/png": "[encoded data removed]",
      "text/plain": [
       "<Figure size 432x288 with 1 Axes>"
      ]
     },
     "metadata": {
      "needs_background": "light"
     },
     "output_type": "display_data"
    }
   ],
   "source": [
    "a=roc_auc_score(y_train,probab)\n",
    "fpr,tpr,thres=roc_curve(y_train,probab,pos_label=\"True.\")\n",
    "plt.plot([0,1],[0,1],linestyle='--')\n",
    "plt.plot(fpr,tpr,marker='.')\n",
    "plt.title('Naive Bayes Train Roc');"
   ]
  },
  {
   "cell_type": "code",
   "execution_count": 104,
   "id": "178d84e3",
   "metadata": {},
   "outputs": [],
   "source": [
    "probabt = nb.predict_proba(x_test)\n",
    "probabt=probabt[:,1]"
   ]
  },
  {
   "cell_type": "code",
   "execution_count": 105,
   "id": "d4c85f03",
   "metadata": {},
   "outputs": [
    {
     "data": {
      "image/png": "[encoded data removed]",
      "text/plain": [
       "<Figure size 432x288 with 1 Axes>"
      ]
     },
     "metadata": {
      "needs_background": "light"
     },
     "output_type": "display_data"
    }
   ],
   "source": [
    "b=roc_auc_score(y_test,probabt)\n",
    "fpr,tpr,thres=roc_curve(y_test,probabt,pos_label=\"True.\")\n",
    "plt.plot([0,1],[0,1],linestyle='--')\n",
    "plt.plot(fpr,tpr,marker='.')\n",
    "plt.title('Naive Bayes Train ROC');"
   ]
  },
  {
   "cell_type": "code",
   "execution_count": 106,
   "id": "2ba74599",
   "metadata": {},
   "outputs": [
    {
     "name": "stdout",
     "output_type": "stream",
     "text": [
      "the train accuracy for Naive Bayes : 0.8417142857142857 the Test accuracy for Naive Bayes : 0.8466666666666667\n",
      "the Train AUC Score for Naive Bayes :  0.920723956073093 the Test AUC Score for Naive Bayes : 0.9233702986563398\n"
     ]
    }
   ],
   "source": [
    "print('the train accuracy for Naive Bayes :',accuracy_score(y_train,nb_train_pred),'the Test accuracy for Naive Bayes :',accuracy_score(y_test,nb_test_pred))\n",
    "print('the Train AUC Score for Naive Bayes : ',a ,'the Test AUC Score for Naive Bayes :',b)"
   ]
  },
  {
   "cell_type": "markdown",
   "id": "3be43d62",
   "metadata": {},
   "source": [
    "# Boosting"
   ]
  },
  {
   "cell_type": "code",
   "execution_count": 107,
   "id": "109733fb",
   "metadata": {},
   "outputs": [],
   "source": [
    "from sklearn.model_selection import GridSearchCV\n",
    "from sklearn.ensemble import AdaBoostClassifier"
   ]
  },
  {
   "cell_type": "code",
   "execution_count": 108,
   "id": "494fa135",
   "metadata": {},
   "outputs": [],
   "source": [
    "param_grid = {\n",
    "    'n_estimators' : [100,500,1000],\n",
    "    'learning_rate': [0.1,0.01,0.001],\n",
    "    'algorithm' :['SAMME','SAMME.R']\n",
    "}"
   ]
  },
  {
   "cell_type": "code",
   "execution_count": 109,
   "id": "9cc28726",
   "metadata": {},
   "outputs": [],
   "source": [
    "adab = AdaBoostClassifier()\n",
    "grids = GridSearchCV(estimator=adab,param_grid=param_grid)"
   ]
  },
  {
   "cell_type": "code",
   "execution_count": 110,
   "id": "7830e91a",
   "metadata": {},
   "outputs": [
    {
     "data": {
      "text/plain": [
       "GridSearchCV(estimator=AdaBoostClassifier(),\n",
       "             param_grid={'algorithm': ['SAMME', 'SAMME.R'],\n",
       "                         'learning_rate': [0.1, 0.01, 0.001],\n",
       "                         'n_estimators': [100, 500, 1000]})"
      ]
     },
     "execution_count": 110,
     "metadata": {},
     "output_type": "execute_result"
    }
   ],
   "source": [
    "grids.fit(x_train,y_train)"
   ]
  },
  {
   "cell_type": "code",
   "execution_count": 111,
   "id": "92977ce5",
   "metadata": {},
   "outputs": [
    {
     "data": {
      "text/plain": [
       "AdaBoostClassifier(learning_rate=0.1, n_estimators=1000)"
      ]
     },
     "execution_count": 111,
     "metadata": {},
     "output_type": "execute_result"
    }
   ],
   "source": [
    "grids.best_estimator_"
   ]
  },
  {
   "cell_type": "code",
   "execution_count": 112,
   "id": "66e3112e",
   "metadata": {},
   "outputs": [],
   "source": [
    "adaboost=grids.best_estimator_"
   ]
  },
  {
   "cell_type": "code",
   "execution_count": 113,
   "id": "c5f820ce",
   "metadata": {},
   "outputs": [
    {
     "data": {
      "text/plain": [
       "AdaBoostClassifier(learning_rate=0.1, n_estimators=1000)"
      ]
     },
     "execution_count": 113,
     "metadata": {},
     "output_type": "execute_result"
    }
   ],
   "source": [
    "adaboost.fit(x_train,y_train)"
   ]
  },
  {
   "cell_type": "code",
   "execution_count": 114,
   "id": "cde03f8f",
   "metadata": {},
   "outputs": [],
   "source": [
    "adab_train_pred = adaboost.predict(x_train)\n",
    "adab_test_pred = adaboost.predict(x_test)"
   ]
  },
  {
   "cell_type": "code",
   "execution_count": 115,
   "id": "4c03dc72",
   "metadata": {},
   "outputs": [
    {
     "name": "stdout",
     "output_type": "stream",
     "text": [
      "              precision    recall  f1-score   support\n",
      "\n",
      "      False.       0.91      0.88      0.90      1743\n",
      "       True.       0.89      0.92      0.90      1757\n",
      "\n",
      "    accuracy                           0.90      3500\n",
      "   macro avg       0.90      0.90      0.90      3500\n",
      "weighted avg       0.90      0.90      0.90      3500\n",
      "\n"
     ]
    },
    {
     "data": {
      "image/png": "[encoded data removed]",
      "text/plain": [
       "<Figure size 432x288 with 2 Axes>"
      ]
     },
     "metadata": {
      "needs_background": "light"
     },
     "output_type": "display_data"
    }
   ],
   "source": [
    "print(classification_report(y_train,adab_train_pred))\n",
    "sns.heatmap(confusion_matrix(y_train,adab_train_pred),annot=True,fmt='2g');\n"
   ]
  },
  {
   "cell_type": "code",
   "execution_count": 116,
   "id": "9de9463d",
   "metadata": {},
   "outputs": [
    {
     "name": "stdout",
     "output_type": "stream",
     "text": [
      "              precision    recall  f1-score   support\n",
      "\n",
      "      False.       0.89      0.86      0.87       759\n",
      "       True.       0.86      0.89      0.88       741\n",
      "\n",
      "    accuracy                           0.87      1500\n",
      "   macro avg       0.88      0.87      0.87      1500\n",
      "weighted avg       0.88      0.87      0.87      1500\n",
      "\n"
     ]
    },
    {
     "data": {
      "image/png": "[encoded data removed]",
      "text/plain": [
       "<Figure size 432x288 with 2 Axes>"
      ]
     },
     "metadata": {
      "needs_background": "light"
     },
     "output_type": "display_data"
    }
   ],
   "source": [
    "print(classification_report(y_test,adab_test_pred))\n",
    "sns.heatmap(confusion_matrix(y_test,adab_test_pred),annot=True,fmt='2g');"
   ]
  },
  {
   "cell_type": "code",
   "execution_count": 117,
   "id": "fd681f0c",
   "metadata": {},
   "outputs": [],
   "source": [
    "pro=adaboost.predict_proba(x_train)\n",
    "pro=pro[:,1]"
   ]
  },
  {
   "cell_type": "code",
   "execution_count": 118,
   "id": "c51044bc",
   "metadata": {},
   "outputs": [],
   "source": [
    "fpr,tpr,thres = roc_curve(y_train,pro,pos_label='True.')"
   ]
  },
  {
   "cell_type": "code",
   "execution_count": 119,
   "id": "5c45dbaa",
   "metadata": {},
   "outputs": [
    {
     "data": {
      "image/png": "[encoded data removed]",
      "text/plain": [
       "<Figure size 432x288 with 1 Axes>"
      ]
     },
     "metadata": {
      "needs_background": "light"
     },
     "output_type": "display_data"
    }
   ],
   "source": [
    "plt.plot([0,1],[0,1],linestyle='--')\n",
    "plt.plot(fpr,tpr,marker='.')\n",
    "plt.title('AdaBoost training Roc' );"
   ]
  },
  {
   "cell_type": "code",
   "execution_count": 120,
   "id": "c56d02cd",
   "metadata": {},
   "outputs": [
    {
     "data": {
      "image/png": "[encoded data removed]",
      "text/plain": [
       "<Figure size 432x288 with 1 Axes>"
      ]
     },
     "metadata": {
      "needs_background": "light"
     },
     "output_type": "display_data"
    }
   ],
   "source": [
    "prot = adaboost.predict_proba(x_test)\n",
    "prot = prot[:,1]\n",
    "fpr,tpr,thres = roc_curve(y_test,prot,pos_label='True.')\n",
    "plt.plot([0,1],[0,1],linestyle ='--')\n",
    "plt.plot(fpr,tpr,marker='.')\n",
    "plt.title('Adaboost Test Roc');"
   ]
  },
  {
   "cell_type": "code",
   "execution_count": 121,
   "id": "7f9e36aa",
   "metadata": {},
   "outputs": [
    {
     "name": "stdout",
     "output_type": "stream",
     "text": [
      "The Training Accuracy of Adaboost : 0.8994285714285715 The Test Accuracy of Adaboost : 0.8746666666666667\n",
      "The Train AUC score : 0.9653124245906302 The Test AUC Score : 0.9438354678629277\n"
     ]
    }
   ],
   "source": [
    "print('The Training Accuracy of Adaboost :',accuracy_score(y_train,adab_train_pred),'The Test Accuracy of Adaboost :',accuracy_score(y_test,adab_test_pred))\n",
    "print( 'The Train AUC score :',roc_auc_score(y_train,pro),'The Test AUC Score :',roc_auc_score(y_test,prot))"
   ]
  },
  {
   "cell_type": "markdown",
   "id": "cc751e1a",
   "metadata": {},
   "source": [
    "# Decision Tree"
   ]
  },
  {
   "cell_type": "code",
   "execution_count": 122,
   "id": "6785ee73",
   "metadata": {},
   "outputs": [],
   "source": [
    "from sklearn.tree import DecisionTreeClassifier"
   ]
  },
  {
   "cell_type": "code",
   "execution_count": 123,
   "id": "d020e717",
   "metadata": {},
   "outputs": [],
   "source": [
    "param_grid = {\n",
    "    'min_samples_split' : [30,50,70,100],\n",
    "    'min_samples_leaf':[15,25,35,50],\n",
    "    'max_depth':[5,10,15,20],\n",
    "    'random_state' : [0]\n",
    "}"
   ]
  },
  {
   "cell_type": "code",
   "execution_count": 124,
   "id": "e739d9bd",
   "metadata": {},
   "outputs": [],
   "source": [
    "dt=DecisionTreeClassifier()"
   ]
  },
  {
   "cell_type": "code",
   "execution_count": 125,
   "id": "6a36034c",
   "metadata": {},
   "outputs": [],
   "source": [
    "gridsdt=GridSearchCV(estimator=dt,param_grid=param_grid,cv=10)"
   ]
  },
  {
   "cell_type": "code",
   "execution_count": 126,
   "id": "73b37bb2",
   "metadata": {},
   "outputs": [
    {
     "data": {
      "text/plain": [
       "GridSearchCV(cv=10, estimator=DecisionTreeClassifier(),\n",
       "             param_grid={'max_depth': [5, 10, 15, 20],\n",
       "                         'min_samples_leaf': [15, 25, 35, 50],\n",
       "                         'min_samples_split': [30, 50, 70, 100],\n",
       "                         'random_state': [0]})"
      ]
     },
     "execution_count": 126,
     "metadata": {},
     "output_type": "execute_result"
    }
   ],
   "source": [
    "gridsdt.fit(x_train,y_train)"
   ]
  },
  {
   "cell_type": "code",
   "execution_count": 127,
   "id": "3ffb839e",
   "metadata": {},
   "outputs": [],
   "source": [
    "dt=gridsdt.best_estimator_"
   ]
  },
  {
   "cell_type": "code",
   "execution_count": 128,
   "id": "de5efe9c",
   "metadata": {},
   "outputs": [
    {
     "data": {
      "text/plain": [
       "DecisionTreeClassifier(max_depth=10, min_samples_leaf=15, min_samples_split=50,\n",
       "                       random_state=0)"
      ]
     },
     "execution_count": 128,
     "metadata": {},
     "output_type": "execute_result"
    }
   ],
   "source": [
    "dt.fit(x_train,y_train)"
   ]
  },
  {
   "cell_type": "code",
   "execution_count": 129,
   "id": "a4e8132f",
   "metadata": {},
   "outputs": [],
   "source": [
    "dt_train_predict=dt.predict(x_train)"
   ]
  },
  {
   "cell_type": "code",
   "execution_count": 130,
   "id": "fd171a1e",
   "metadata": {},
   "outputs": [],
   "source": [
    "dt_test_predict=dt.predict(x_test)"
   ]
  },
  {
   "cell_type": "code",
   "execution_count": 131,
   "id": "6fe158a3",
   "metadata": {},
   "outputs": [
    {
     "name": "stdout",
     "output_type": "stream",
     "text": [
      "              precision    recall  f1-score   support\n",
      "\n",
      "      False.       0.91      0.89      0.90      1743\n",
      "       True.       0.89      0.91      0.90      1757\n",
      "\n",
      "    accuracy                           0.90      3500\n",
      "   macro avg       0.90      0.90      0.90      3500\n",
      "weighted avg       0.90      0.90      0.90      3500\n",
      "\n"
     ]
    },
    {
     "data": {
      "image/png": "[encoded data removed]",
      "text/plain": [
       "<Figure size 432x288 with 2 Axes>"
      ]
     },
     "metadata": {
      "needs_background": "light"
     },
     "output_type": "display_data"
    }
   ],
   "source": [
    "print(classification_report(y_train,dt_train_predict))\n",
    "sns.heatmap(confusion_matrix(y_train,dt_train_predict),annot=True,fmt='2g');"
   ]
  },
  {
   "cell_type": "code",
   "execution_count": 132,
   "id": "19455474",
   "metadata": {},
   "outputs": [
    {
     "name": "stdout",
     "output_type": "stream",
     "text": [
      "              precision    recall  f1-score   support\n",
      "\n",
      "      False.       0.88      0.87      0.87       759\n",
      "       True.       0.87      0.88      0.87       741\n",
      "\n",
      "    accuracy                           0.87      1500\n",
      "   macro avg       0.87      0.87      0.87      1500\n",
      "weighted avg       0.87      0.87      0.87      1500\n",
      "\n"
     ]
    },
    {
     "data": {
      "image/png": "[encoded data removed]",
      "text/plain": [
       "<Figure size 432x288 with 2 Axes>"
      ]
     },
     "metadata": {
      "needs_background": "light"
     },
     "output_type": "display_data"
    }
   ],
   "source": [
    "print(classification_report(y_test,dt_test_predict))\n",
    "sns.heatmap(confusion_matrix(y_test,dt_test_predict),annot=True,fmt='2g');"
   ]
  },
  {
   "cell_type": "code",
   "execution_count": 133,
   "id": "af10c06d",
   "metadata": {},
   "outputs": [
    {
     "data": {
      "image/png": "[encoded data removed]",
      "text/plain": [
       "<Figure size 432x288 with 1 Axes>"
      ]
     },
     "metadata": {
      "needs_background": "light"
     },
     "output_type": "display_data"
    }
   ],
   "source": [
    "pr=dt.predict_proba(x_train)\n",
    "pr=pr[:,1]\n",
    "fpr,tpr,thres=roc_curve(y_train,pr,pos_label='True.')\n",
    "plt.plot([0,1],[0,1],linestyle='--')\n",
    "plt.plot(fpr,tpr,marker='.')\n",
    "plt.title('Decision Tree Train ROC');"
   ]
  },
  {
   "cell_type": "code",
   "execution_count": 134,
   "id": "923bc942",
   "metadata": {},
   "outputs": [
    {
     "data": {
      "image/png": "[encoded data removed]",
      "text/plain": [
       "<Figure size 432x288 with 1 Axes>"
      ]
     },
     "metadata": {
      "needs_background": "light"
     },
     "output_type": "display_data"
    }
   ],
   "source": [
    "pre = dt.predict_proba(x_test)\n",
    "pre=pre[:,1]\n",
    "fpr,tpr,thres=roc_curve(y_test,pre,pos_label=\"True.\")\n",
    "plt.plot([0,1],[0,1],linestyle='--')\n",
    "plt.plot(fpr,tpr,marker='.')\n",
    "plt.title('Decision Tree Test ROC');"
   ]
  },
  {
   "cell_type": "code",
   "execution_count": 135,
   "id": "524fe4be",
   "metadata": {},
   "outputs": [
    {
     "name": "stdout",
     "output_type": "stream",
     "text": [
      "The Train accuracy of DT model : 0.9005714285714286 The Test accuracy of DT model : 0.874\n",
      "The AUC Train Auc Score :  0.967720626387165 The Test AUC score : 0.9371936225483136\n"
     ]
    }
   ],
   "source": [
    "print('The Train accuracy of DT model :',accuracy_score(y_train,dt_train_predict),'The Test accuracy of DT model :',accuracy_score(y_test,dt_test_predict))\n",
    "print('The AUC Train Auc Score : ',roc_auc_score(y_train,pr),'The Test AUC score :',roc_auc_score(y_test,pre))"
   ]
  },
  {
   "cell_type": "markdown",
   "id": "8472c328",
   "metadata": {},
   "source": [
    "# Random Forest"
   ]
  },
  {
   "cell_type": "code",
   "execution_count": 136,
   "id": "f75a5044",
   "metadata": {},
   "outputs": [],
   "source": [
    "from sklearn.ensemble import RandomForestClassifier"
   ]
  },
  {
   "cell_type": "code",
   "execution_count": 145,
   "id": "eaf1f451",
   "metadata": {},
   "outputs": [],
   "source": [
    "rfc=RandomForestClassifier()"
   ]
  },
  {
   "cell_type": "code",
   "execution_count": 141,
   "id": "00ba4478",
   "metadata": {},
   "outputs": [],
   "source": [
    "param = {'min_samples_split':[30,50,70,100],\n",
    "        'min_samples_leaf':[15,25,35,50],\n",
    "        'max_depth':[5,10,15,20]}"
   ]
  },
  {
   "cell_type": "code",
   "execution_count": 142,
   "id": "f9e73e7e",
   "metadata": {},
   "outputs": [],
   "source": [
    "grid = GridSearchCV(estimator=rfc,param_grid=param)"
   ]
  },
  {
   "cell_type": "code",
   "execution_count": 143,
   "id": "a9aa312c",
   "metadata": {},
   "outputs": [
    {
     "data": {
      "text/plain": [
       "GridSearchCV(estimator=RandomForestClassifier(),\n",
       "             param_grid={'max_depth': [5, 10, 15, 20],\n",
       "                         'min_samples_leaf': [15, 25, 35, 50],\n",
       "                         'min_samples_split': [30, 50, 70, 100]})"
      ]
     },
     "execution_count": 143,
     "metadata": {},
     "output_type": "execute_result"
    }
   ],
   "source": [
    "grid.fit(x_train,y_train)"
   ]
  },
  {
   "cell_type": "code",
   "execution_count": 146,
   "id": "839be010",
   "metadata": {},
   "outputs": [],
   "source": [
    "rfc=grid.best_estimator_"
   ]
  },
  {
   "cell_type": "code",
   "execution_count": 147,
   "id": "0e8db1d1",
   "metadata": {},
   "outputs": [],
   "source": [
    "rfc.fit(x_train,y_train)\n",
    "train_rfc_pred=rfc.predict(x_train)\n",
    "test_rfc_pred=rfc.predict(x_test)"
   ]
  },
  {
   "cell_type": "code",
   "execution_count": 150,
   "id": "996ae1a0",
   "metadata": {},
   "outputs": [
    {
     "name": "stdout",
     "output_type": "stream",
     "text": [
      "              precision    recall  f1-score   support\n",
      "\n",
      "      False.       0.94      0.93      0.94      1743\n",
      "       True.       0.93      0.94      0.94      1757\n",
      "\n",
      "    accuracy                           0.94      3500\n",
      "   macro avg       0.94      0.94      0.94      3500\n",
      "weighted avg       0.94      0.94      0.94      3500\n",
      "\n"
     ]
    },
    {
     "data": {
      "image/png": "[encoded data removed]",
      "text/plain": [
       "<Figure size 432x288 with 2 Axes>"
      ]
     },
     "metadata": {
      "needs_background": "light"
     },
     "output_type": "display_data"
    }
   ],
   "source": [
    "print(classification_report(y_train,train_rfc_pred))\n",
    "sns.heatmap(confusion_matrix(y_train,train_rfc_pred),annot=True,fmt='2g');\n"
   ]
  },
  {
   "cell_type": "code",
   "execution_count": 151,
   "id": "93c3847e",
   "metadata": {},
   "outputs": [
    {
     "name": "stdout",
     "output_type": "stream",
     "text": [
      "              precision    recall  f1-score   support\n",
      "\n",
      "      False.       0.93      0.91      0.92       759\n",
      "       True.       0.91      0.93      0.92       741\n",
      "\n",
      "    accuracy                           0.92      1500\n",
      "   macro avg       0.92      0.92      0.92      1500\n",
      "weighted avg       0.92      0.92      0.92      1500\n",
      "\n"
     ]
    },
    {
     "data": {
      "image/png": "[encoded data removed]",
      "text/plain": [
       "<Figure size 432x288 with 2 Axes>"
      ]
     },
     "metadata": {
      "needs_background": "light"
     },
     "output_type": "display_data"
    }
   ],
   "source": [
    "print(classification_report(y_test,test_rfc_pred))\n",
    "sns.heatmap(confusion_matrix(y_test,test_rfc_pred),annot=True,fmt='2g');"
   ]
  },
  {
   "cell_type": "code",
   "execution_count": 153,
   "id": "b767d1bb",
   "metadata": {},
   "outputs": [
    {
     "data": {
      "image/png": "[encoded data removed]",
      "text/plain": [
       "<Figure size 432x288 with 1 Axes>"
      ]
     },
     "metadata": {
      "needs_background": "light"
     },
     "output_type": "display_data"
    }
   ],
   "source": [
    "pr=rfc.predict_proba(x_train)\n",
    "pr=pr[:,1]\n",
    "fpr,tpr,thres=roc_curve(y_train,pr,pos_label='True.')\n",
    "plt.plot([0,1],[0,1],linestyle='--')\n",
    "plt.plot(fpr,tpr,marker='.')\n",
    "plt.title('Random Forest Train Roc');"
   ]
  },
  {
   "cell_type": "code",
   "execution_count": 156,
   "id": "87f447bd",
   "metadata": {},
   "outputs": [
    {
     "data": {
      "image/png": "[encoded data removed]",
      "text/plain": [
       "<Figure size 432x288 with 1 Axes>"
      ]
     },
     "metadata": {
      "needs_background": "light"
     },
     "output_type": "display_data"
    }
   ],
   "source": [
    "prt=rfc.predict_proba(x_test)\n",
    "prt=prt[:,1]\n",
    "fpr,tpr,thres=roc_curve(y_test,prt,pos_label='True.')\n",
    "plt.plot([0,1],[0,1],linestyle='--')\n",
    "plt.plot(fpr,tpr,marker='.')\n",
    "plt.title('Random Forest Test Roc');"
   ]
  },
  {
   "cell_type": "code",
   "execution_count": 159,
   "id": "82b96382",
   "metadata": {},
   "outputs": [
    {
     "name": "stdout",
     "output_type": "stream",
     "text": [
      "The accuracy score for Train Random forest : 0.9374285714285714 The accuracy score for Test Random Forest : 0.9206666666666666\n",
      "The Train AUC : 0.9840052951051298 The test AUC : 0.9700828030347481\n"
     ]
    }
   ],
   "source": [
    "print('The accuracy score for Train Random forest :',accuracy_score(y_train,train_rfc_pred),'The accuracy score for Test Random Forest :',accuracy_score(y_test,test_rfc_pred))\n",
    "print('The Train AUC :',roc_auc_score(y_train,pr),'The test AUC :',roc_auc_score(y_test,prt))"
   ]
  },
  {
   "cell_type": "code",
   "execution_count": 164,
   "id": "de2054c6",
   "metadata": {},
   "outputs": [
    {
     "data": {
      "image/png": "[encoded data removed]",
      "text/plain": [
       "<Figure size 432x288 with 1 Axes>"
      ]
     },
     "metadata": {
      "needs_background": "light"
     },
     "output_type": "display_data"
    }
   ],
   "source": [
    "# define a function to plot the ROC curve\n",
    "def plot_roc_curve(y_true, y_scores, label):\n",
    "    fpr, tpr, thresholds = roc_curve(y_true, y_scores,pos_label='True.')\n",
    "    auc_score = roc_auc_score(y_true, y_scores)\n",
    "    plt.plot(fpr, tpr, label=f'{label} (AUC = {auc_score:.3f})')\n",
    "\n",
    "# plot ROC curves for each model on the train data\n",
    "plot_roc_curve(y_train, lr.predict_proba(x_train)[:, 1], 'Logistic Regression')\n",
    "plot_roc_curve(y_train, lda.predict_proba(x_train)[:, 1], 'LDA')\n",
    "plot_roc_curve(y_train, knn.predict_proba(xss_train)[:, 1], 'KNN')\n",
    "plot_roc_curve(y_train, nb.predict_proba(x_train)[:, 1], 'Naive Bayes')\n",
    "plot_roc_curve(y_train, adaboost.predict_proba(x_train)[:, 1], 'ADA Boost')\n",
    "plot_roc_curve(y_train, dt.predict_proba(x_train)[:, 1], 'Decision Tree')\n",
    "plot_roc_curve(y_train, rfc.predict_proba(x_train)[:, 1], 'Random Forest')\n",
    "\n",
    "# add title and labels to the plot\n",
    "plt.title('ROC Curve - Train Data')\n",
    "plt.xlabel('False Positive Rate')\n",
    "plt.ylabel('True Positive Rate')\n",
    "plt.legend()\n",
    "plt.show()"
   ]
  },
  {
   "cell_type": "code",
   "execution_count": 162,
   "id": "11d11ee0",
   "metadata": {},
   "outputs": [
    {
     "data": {
      "image/png": "[encoded data removed]",
      "text/plain": [
       "<Figure size 432x288 with 1 Axes>"
      ]
     },
     "metadata": {
      "needs_background": "light"
     },
     "output_type": "display_data"
    }
   ],
   "source": [
    "# define a function to plot the ROC curve\n",
    "def plot_roc_curve(y_true, y_scores, label):\n",
    "    fpr, tpr, thresholds = roc_curve(y_true, y_scores,pos_label='True.')\n",
    "    auc_score = roc_auc_score(y_true, y_scores)\n",
    "    plt.plot(fpr, tpr, label=f'{label} (AUC = {auc_score:.3f})')\n",
    "\n",
    "# plot ROC curves for each model on the train data\n",
    "plot_roc_curve(y_test, lr.predict_proba(x_test)[:, 1], 'Logistic Regression')\n",
    "plot_roc_curve(y_test, lda.predict_proba(x_test)[:, 1], 'LDA')\n",
    "plot_roc_curve(y_test, knn.predict_proba(xss_test)[:, 1], 'KNN')\n",
    "plot_roc_curve(y_test, nb.predict_proba(x_test)[:, 1], 'Naive Bayes')\n",
    "plot_roc_curve(y_test, adaboost.predict_proba(x_test)[:, 1], 'ADA Boost')\n",
    "plot_roc_curve(y_test, dt.predict_proba(x_test)[:, 1], 'Decision Tree')\n",
    "plot_roc_curve(y_test, rfc.predict_proba(x_test)[:, 1], 'Random Forest')\n",
    "\n",
    "# add title and labels to the plot\n",
    "plt.title('ROC Curve - Test Data')\n",
    "plt.xlabel('False Positive Rate')\n",
    "plt.ylabel('True Positive Rate')\n",
    "plt.legend()\n",
    "plt.show()\n"
   ]
  },
  {
   "cell_type": "markdown",
   "id": "439167a8",
   "metadata": {},
   "source": [
    "# Random Forest Performs the Best "
   ]
  },
  {
   "cell_type": "code",
   "execution_count": null,
   "id": "4f3593d5",
   "metadata": {},
   "outputs": [],
   "source": []
  }
 ],
 "metadata": {
  "kernelspec": {
   "display_name": "Python 3 (ipykernel)",
   "language": "python",
   "name": "python3"
  },
  "language_info": {
   "codemirror_mode": {
    "name": "ipython",
    "version": 3
   },
   "file_extension": ".py",
   "mimetype": "text/x-python",
   "name": "python",
   "nbconvert_exporter": "python",
   "pygments_lexer": "ipython3",
   "version": "3.9.12"
  }
 },
 "nbformat": 4,
 "nbformat_minor": 5
}
